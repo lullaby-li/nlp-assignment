{
 "cells": [
  {
   "cell_type": "markdown",
   "metadata": {},
   "source": [
    "# Assignment 10"
   ]
  },
  {
   "cell_type": "markdown",
   "metadata": {},
   "source": [
    "第10节   机器学习算法（k-means，svm，贝叶斯，随机森林，xgboost 等）"
   ]
  },
  {
   "cell_type": "markdown",
   "metadata": {},
   "source": [
    "### 1.复习上课内容"
   ]
  },
  {
   "cell_type": "markdown",
   "metadata": {},
   "source": [
    "### 2. 回答一下理论题目"
   ]
  },
  {
   "cell_type": "markdown",
   "metadata": {},
   "source": [
    "#### 1. What is independent assumption in Naive bayes ?"
   ]
  },
  {
   "cell_type": "markdown",
   "metadata": {},
   "source": [
    "A: 假设每个特征发生的概率是互相独立的。"
   ]
  },
  {
   "cell_type": "markdown",
   "metadata": {},
   "source": [
    "#### 2. What is MAP(maximum a posterior) and ML(maximum likelihood) ?"
   ]
  },
  {
   "cell_type": "markdown",
   "metadata": {},
   "source": [
    "A: MAP(maximum a posterior): 最大后验概率估计是想求$θ$使$P（X_0|θ）P(θ)$最大。求得的$θ$不单单让似然函数大，$θ$自己出现的先验概率也得大。\n",
    "   MAP其实是在最大化 $P（θ|X_0)=P（X_0|θ）P(θ)/P(X_0)$, 不过因为$x_0$是确定的,$P(X_0)$是一个已知值，所以去掉了分母$P(X_0)$.\n",
    "   \n",
    "\n",
    "   ML(maximum likelihood)：给定一堆数据，假如我们知道它是从某一种分布中随机取出来的，可是我们并不知道这个分布具体的参，即“模型已定，参数未知”。例如，我们知道这个分布是正态分布，但是不知道均值和方差；或者是二项分布，但是不知道均值。 最大似然估计（MLE，Maximum Likelihood Estimation）就可以用来估计模型的参数。MLE的目标是找出一组参数$θ$，使得模型产生出观测数据的概率$P（X_0|θ）$最大"
   ]
  },
  {
   "cell_type": "markdown",
   "metadata": {},
   "source": [
    "#### 3. What is support vector in SVM?"
   ]
  },
  {
   "cell_type": "markdown",
   "metadata": {},
   "source": [
    "A: SVM中距离划分样本的超平面最近的样本点叫support vector \n",
    "\n",
    "\n",
    "支持向量机（support vector machines）是一种二分类模型，它的目的是寻找一个超平面来对样本进行分割，分割的原则是间隔最大化。\n",
    "   \n",
    "   划分超平面可通过如下线性方程来描述： $w^T x+b=0$。其中$w$为法向量，决定了超平面的方向，$b$为位移量，决定了超平面与原点的距离。假设超平面能将训练样本正确地分类，即对于训练样本$(x_i,y_i)$，满足以下公式：\n",
    "   $$  \n",
    "             \\begin{cases}\n",
    "             w^T x_i+b\\geq+1 ,\\, y_i =+1 \\\\\n",
    "             w^T x_i+b\\leq-1 ,\\, y_i =-1  \\\\\n",
    "             \\end{cases}\n",
    "$$\n",
    "   该公式被称为最大间隔假设，$y_i=+1$ 表示样本为正样本，$y_i=−1$ 表示样本为负样本，式子前面选择大于等于+1，小于等于-1只是为了计算方便，原则上可以是任意常数，但无论是多少，都可以通过对$ w $的变换使其为 +1 和 -1 。实际上该公式等价于$y_i( w^T x_i+b)\\geq+1$；\n",
    "   \n",
    "   距离超平面最近的这几个样本点满足$y_i( w^T x_i+b)=+1$，它们被称为“支持向量。"
   ]
  },
  {
   "cell_type": "markdown",
   "metadata": {},
   "source": [
    "#### 4. What is the intuition behind SVM ?"
   ]
  },
  {
   "cell_type": "markdown",
   "metadata": {},
   "source": [
    "A: 一个点距离分离超平面的远近可以表示分类预测的确信度。所以SVM的目标是寻找一个超平面，使得离超平面较近的异类点之间能有更大的间隔，即不必考虑所有样本点，只需让求得的超平面使得离它近的点间隔最大。"
   ]
  },
  {
   "cell_type": "markdown",
   "metadata": {},
   "source": [
    "#### 5. Shortly describ what 'random' means in random forest ?"
   ]
  },
  {
   "cell_type": "markdown",
   "metadata": {},
   "source": [
    "A: 随机森林顾名思义，是用随机的方式建立一个森林，森林里面有很多的决策树组成，随机森林的每一棵决策树之间是没有关联的。随机性体现在：\n",
    "   \n",
    "   1.从原始训练样本集N中有放回地重复随机抽取k个样本生成新的训练样本集合。\n",
    "   \n",
    "   2.特征选择采用随机的方法去分裂每一个节点。"
   ]
  },
  {
   "cell_type": "markdown",
   "metadata": {},
   "source": [
    "#### 6. What cariterion does XGBoost use to find the best split point in a tree ?"
   ]
  },
  {
   "cell_type": "markdown",
   "metadata": {},
   "source": [
    "A: 计算损失函数对每个样本预测值的导数，通过导数信息寻找最优分裂点。"
   ]
  },
  {
   "cell_type": "markdown",
   "metadata": {},
   "source": [
    "### 3. Practial part"
   ]
  },
  {
   "cell_type": "markdown",
   "metadata": {},
   "source": [
    "##### Problem description: In this part you are going to build a classifier to detect if a piece of news is published by the Xinhua news agency (新华社）."
   ]
  },
  {
   "cell_type": "markdown",
   "metadata": {},
   "source": [
    "#### Hints:"
   ]
  },
  {
   "cell_type": "markdown",
   "metadata": {},
   "source": [
    "###### 1. Firstly, you have to come up with a way to represent the news. (Vectorize the sentence, you can find different ways to do so online)  "
   ]
  },
  {
   "cell_type": "code",
   "execution_count": 1,
   "metadata": {},
   "outputs": [],
   "source": [
    "import pandas as pd"
   ]
  },
  {
   "cell_type": "code",
   "execution_count": 22,
   "metadata": {},
   "outputs": [],
   "source": [
    "fname = 'F:/export_sql_1558435/sqlResult_1558435new3.csv'"
   ]
  },
  {
   "cell_type": "code",
   "execution_count": 23,
   "metadata": {},
   "outputs": [],
   "source": [
    "content = pd.read_csv(fname, encoding='utf-8')"
   ]
  },
  {
   "cell_type": "code",
   "execution_count": 34,
   "metadata": {},
   "outputs": [
    {
     "data": {
      "text/html": [
       "<div>\n",
       "<style scoped>\n",
       "    .dataframe tbody tr th:only-of-type {\n",
       "        vertical-align: middle;\n",
       "    }\n",
       "\n",
       "    .dataframe tbody tr th {\n",
       "        vertical-align: top;\n",
       "    }\n",
       "\n",
       "    .dataframe thead th {\n",
       "        text-align: right;\n",
       "    }\n",
       "</style>\n",
       "<table border=\"1\" class=\"dataframe\">\n",
       "  <thead>\n",
       "    <tr style=\"text-align: right;\">\n",
       "      <th></th>\n",
       "      <th>Unnamed: 0</th>\n",
       "      <th>source</th>\n",
       "      <th>content</th>\n",
       "    </tr>\n",
       "  </thead>\n",
       "  <tbody>\n",
       "    <tr>\n",
       "      <th>0</th>\n",
       "      <td>0</td>\n",
       "      <td>快科技@http://www.kkj.cn/</td>\n",
       "      <td>此前的一加3T搭载的是3400mAh电池，DashCharge快充规格为5V/4A。\\r\\r...</td>\n",
       "    </tr>\n",
       "    <tr>\n",
       "      <th>1</th>\n",
       "      <td>1</td>\n",
       "      <td>新华社</td>\n",
       "      <td>这是6月18日在葡萄牙中部大佩德罗冈地区拍摄的被森林大火烧毁的汽车。新华社记者张立云摄\\r\\...</td>\n",
       "    </tr>\n",
       "    <tr>\n",
       "      <th>2</th>\n",
       "      <td>2</td>\n",
       "      <td>中国证券报?中证网</td>\n",
       "      <td>沙漠雄鹰：震荡有利消化套牢筹码\\r\\r\\r\\r\\n　　周四开盘上证50在银行券商大蓝筹带...</td>\n",
       "    </tr>\n",
       "    <tr>\n",
       "      <th>3</th>\n",
       "      <td>3</td>\n",
       "      <td>中国证券报?中证网</td>\n",
       "      <td>6月21日，A股纳入MSCI指数尘埃落定，但当天被寄予厚望的券商股并未扛起反弹大旗。22...</td>\n",
       "    </tr>\n",
       "    <tr>\n",
       "      <th>4</th>\n",
       "      <td>4</td>\n",
       "      <td>证券时报网</td>\n",
       "      <td>?\\r\\r\\r\\r\\n　　巨丰早评：市场将再次探底\\r\\r\\r\\r\\n　　【巨丰观点】\\r\\...</td>\n",
       "    </tr>\n",
       "  </tbody>\n",
       "</table>\n",
       "</div>"
      ],
      "text/plain": [
       "   Unnamed: 0                  source  \\\n",
       "0           0  快科技@http://www.kkj.cn/   \n",
       "1           1                     新华社   \n",
       "2           2               中国证券报?中证网   \n",
       "3           3               中国证券报?中证网   \n",
       "4           4                   证券时报网   \n",
       "\n",
       "                                             content  \n",
       "0  此前的一加3T搭载的是3400mAh电池，DashCharge快充规格为5V/4A。\\r\\r...  \n",
       "1  这是6月18日在葡萄牙中部大佩德罗冈地区拍摄的被森林大火烧毁的汽车。新华社记者张立云摄\\r\\...  \n",
       "2  　　沙漠雄鹰：震荡有利消化套牢筹码\\r\\r\\r\\r\\n　　周四开盘上证50在银行券商大蓝筹带...  \n",
       "3  　　6月21日，A股纳入MSCI指数尘埃落定，但当天被寄予厚望的券商股并未扛起反弹大旗。22...  \n",
       "4  ?\\r\\r\\r\\r\\n　　巨丰早评：市场将再次探底\\r\\r\\r\\r\\n　　【巨丰观点】\\r\\...  "
      ]
     },
     "execution_count": 34,
     "metadata": {},
     "output_type": "execute_result"
    }
   ],
   "source": [
    "content.head()"
   ]
  },
  {
   "cell_type": "code",
   "execution_count": 33,
   "metadata": {},
   "outputs": [
    {
     "data": {
      "text/plain": [
       "25109"
      ]
     },
     "execution_count": 33,
     "metadata": {},
     "output_type": "execute_result"
    }
   ],
   "source": [
    "content.shape[0]"
   ]
  },
  {
   "cell_type": "code",
   "execution_count": 35,
   "metadata": {},
   "outputs": [],
   "source": [
    "df = pd.DataFrame()\n",
    "df['source'] = content['source']\n",
    "df['content'] = content['content']\n",
    "df['label'] = 0\n",
    "df = df.dropna()\n",
    "df = df.drop_duplicates()   #去除重复"
   ]
  },
  {
   "cell_type": "code",
   "execution_count": 36,
   "metadata": {},
   "outputs": [
    {
     "data": {
      "text/html": [
       "<div>\n",
       "<style scoped>\n",
       "    .dataframe tbody tr th:only-of-type {\n",
       "        vertical-align: middle;\n",
       "    }\n",
       "\n",
       "    .dataframe tbody tr th {\n",
       "        vertical-align: top;\n",
       "    }\n",
       "\n",
       "    .dataframe thead th {\n",
       "        text-align: right;\n",
       "    }\n",
       "</style>\n",
       "<table border=\"1\" class=\"dataframe\">\n",
       "  <thead>\n",
       "    <tr style=\"text-align: right;\">\n",
       "      <th></th>\n",
       "      <th>source</th>\n",
       "      <th>content</th>\n",
       "      <th>label</th>\n",
       "    </tr>\n",
       "  </thead>\n",
       "  <tbody>\n",
       "    <tr>\n",
       "      <th>0</th>\n",
       "      <td>快科技@http://www.kkj.cn/</td>\n",
       "      <td>此前的一加3T搭载的是3400mAh电池，DashCharge快充规格为5V/4A。\\r\\r...</td>\n",
       "      <td>0</td>\n",
       "    </tr>\n",
       "    <tr>\n",
       "      <th>1</th>\n",
       "      <td>新华社</td>\n",
       "      <td>这是6月18日在葡萄牙中部大佩德罗冈地区拍摄的被森林大火烧毁的汽车。新华社记者张立云摄\\r\\...</td>\n",
       "      <td>0</td>\n",
       "    </tr>\n",
       "    <tr>\n",
       "      <th>2</th>\n",
       "      <td>中国证券报?中证网</td>\n",
       "      <td>沙漠雄鹰：震荡有利消化套牢筹码\\r\\r\\r\\r\\n　　周四开盘上证50在银行券商大蓝筹带...</td>\n",
       "      <td>0</td>\n",
       "    </tr>\n",
       "    <tr>\n",
       "      <th>3</th>\n",
       "      <td>中国证券报?中证网</td>\n",
       "      <td>6月21日，A股纳入MSCI指数尘埃落定，但当天被寄予厚望的券商股并未扛起反弹大旗。22...</td>\n",
       "      <td>0</td>\n",
       "    </tr>\n",
       "    <tr>\n",
       "      <th>4</th>\n",
       "      <td>证券时报网</td>\n",
       "      <td>?\\r\\r\\r\\r\\n　　巨丰早评：市场将再次探底\\r\\r\\r\\r\\n　　【巨丰观点】\\r\\...</td>\n",
       "      <td>0</td>\n",
       "    </tr>\n",
       "  </tbody>\n",
       "</table>\n",
       "</div>"
      ],
      "text/plain": [
       "                   source                                            content  \\\n",
       "0  快科技@http://www.kkj.cn/  此前的一加3T搭载的是3400mAh电池，DashCharge快充规格为5V/4A。\\r\\r...   \n",
       "1                     新华社  这是6月18日在葡萄牙中部大佩德罗冈地区拍摄的被森林大火烧毁的汽车。新华社记者张立云摄\\r\\...   \n",
       "2               中国证券报?中证网  　　沙漠雄鹰：震荡有利消化套牢筹码\\r\\r\\r\\r\\n　　周四开盘上证50在银行券商大蓝筹带...   \n",
       "3               中国证券报?中证网  　　6月21日，A股纳入MSCI指数尘埃落定，但当天被寄予厚望的券商股并未扛起反弹大旗。22...   \n",
       "4                   证券时报网  ?\\r\\r\\r\\r\\n　　巨丰早评：市场将再次探底\\r\\r\\r\\r\\n　　【巨丰观点】\\r\\...   \n",
       "\n",
       "   label  \n",
       "0      0  \n",
       "1      0  \n",
       "2      0  \n",
       "3      0  \n",
       "4      0  "
      ]
     },
     "execution_count": 36,
     "metadata": {},
     "output_type": "execute_result"
    }
   ],
   "source": [
    "df.head()"
   ]
  },
  {
   "cell_type": "code",
   "execution_count": 37,
   "metadata": {},
   "outputs": [],
   "source": [
    "df.loc.__setitem__((df.loc[df['source']=='新华社'].index,'label'),1)"
   ]
  },
  {
   "cell_type": "code",
   "execution_count": 38,
   "metadata": {},
   "outputs": [
    {
     "data": {
      "text/html": [
       "<div>\n",
       "<style scoped>\n",
       "    .dataframe tbody tr th:only-of-type {\n",
       "        vertical-align: middle;\n",
       "    }\n",
       "\n",
       "    .dataframe tbody tr th {\n",
       "        vertical-align: top;\n",
       "    }\n",
       "\n",
       "    .dataframe thead th {\n",
       "        text-align: right;\n",
       "    }\n",
       "</style>\n",
       "<table border=\"1\" class=\"dataframe\">\n",
       "  <thead>\n",
       "    <tr style=\"text-align: right;\">\n",
       "      <th></th>\n",
       "      <th>source</th>\n",
       "      <th>content</th>\n",
       "      <th>label</th>\n",
       "    </tr>\n",
       "  </thead>\n",
       "  <tbody>\n",
       "    <tr>\n",
       "      <th>0</th>\n",
       "      <td>快科技@http://www.kkj.cn/</td>\n",
       "      <td>此前的一加3T搭载的是3400mAh电池，DashCharge快充规格为5V/4A。\\r\\r...</td>\n",
       "      <td>0</td>\n",
       "    </tr>\n",
       "    <tr>\n",
       "      <th>1</th>\n",
       "      <td>新华社</td>\n",
       "      <td>这是6月18日在葡萄牙中部大佩德罗冈地区拍摄的被森林大火烧毁的汽车。新华社记者张立云摄\\r\\...</td>\n",
       "      <td>1</td>\n",
       "    </tr>\n",
       "    <tr>\n",
       "      <th>2</th>\n",
       "      <td>中国证券报?中证网</td>\n",
       "      <td>沙漠雄鹰：震荡有利消化套牢筹码\\r\\r\\r\\r\\n　　周四开盘上证50在银行券商大蓝筹带...</td>\n",
       "      <td>0</td>\n",
       "    </tr>\n",
       "    <tr>\n",
       "      <th>3</th>\n",
       "      <td>中国证券报?中证网</td>\n",
       "      <td>6月21日，A股纳入MSCI指数尘埃落定，但当天被寄予厚望的券商股并未扛起反弹大旗。22...</td>\n",
       "      <td>0</td>\n",
       "    </tr>\n",
       "    <tr>\n",
       "      <th>4</th>\n",
       "      <td>证券时报网</td>\n",
       "      <td>?\\r\\r\\r\\r\\n　　巨丰早评：市场将再次探底\\r\\r\\r\\r\\n　　【巨丰观点】\\r\\...</td>\n",
       "      <td>0</td>\n",
       "    </tr>\n",
       "  </tbody>\n",
       "</table>\n",
       "</div>"
      ],
      "text/plain": [
       "                   source                                            content  \\\n",
       "0  快科技@http://www.kkj.cn/  此前的一加3T搭载的是3400mAh电池，DashCharge快充规格为5V/4A。\\r\\r...   \n",
       "1                     新华社  这是6月18日在葡萄牙中部大佩德罗冈地区拍摄的被森林大火烧毁的汽车。新华社记者张立云摄\\r\\...   \n",
       "2               中国证券报?中证网  　　沙漠雄鹰：震荡有利消化套牢筹码\\r\\r\\r\\r\\n　　周四开盘上证50在银行券商大蓝筹带...   \n",
       "3               中国证券报?中证网  　　6月21日，A股纳入MSCI指数尘埃落定，但当天被寄予厚望的券商股并未扛起反弹大旗。22...   \n",
       "4                   证券时报网  ?\\r\\r\\r\\r\\n　　巨丰早评：市场将再次探底\\r\\r\\r\\r\\n　　【巨丰观点】\\r\\...   \n",
       "\n",
       "   label  \n",
       "0      0  \n",
       "1      1  \n",
       "2      0  \n",
       "3      0  \n",
       "4      0  "
      ]
     },
     "execution_count": 38,
     "metadata": {},
     "output_type": "execute_result"
    }
   ],
   "source": [
    "df.head()"
   ]
  },
  {
   "cell_type": "code",
   "execution_count": 39,
   "metadata": {},
   "outputs": [],
   "source": [
    "import re\n",
    "\n",
    "def strip_merge(content_lines):\n",
    "    content_lines_list = map(lambda content_line: content_line.strip(), re.split(r\"[\\n\\\\n;?■↑*□●]\", content_lines))\n",
    "    return ''.join(content_lines_list)"
   ]
  },
  {
   "cell_type": "code",
   "execution_count": 40,
   "metadata": {},
   "outputs": [],
   "source": [
    "df['content'] = df['content'].apply(strip_merge)"
   ]
  },
  {
   "cell_type": "code",
   "execution_count": 41,
   "metadata": {},
   "outputs": [],
   "source": [
    "import jieba\n",
    "\n",
    "def cut(string):\n",
    "    return list(jieba.cut(string))"
   ]
  },
  {
   "cell_type": "code",
   "execution_count": 42,
   "metadata": {},
   "outputs": [],
   "source": [
    "df['content']=df['content'].apply(lambda i:cut(i))"
   ]
  },
  {
   "cell_type": "code",
   "execution_count": 43,
   "metadata": {},
   "outputs": [
    {
     "data": {
      "text/html": [
       "<div>\n",
       "<style scoped>\n",
       "    .dataframe tbody tr th:only-of-type {\n",
       "        vertical-align: middle;\n",
       "    }\n",
       "\n",
       "    .dataframe tbody tr th {\n",
       "        vertical-align: top;\n",
       "    }\n",
       "\n",
       "    .dataframe thead th {\n",
       "        text-align: right;\n",
       "    }\n",
       "</style>\n",
       "<table border=\"1\" class=\"dataframe\">\n",
       "  <thead>\n",
       "    <tr style=\"text-align: right;\">\n",
       "      <th></th>\n",
       "      <th>source</th>\n",
       "      <th>content</th>\n",
       "      <th>label</th>\n",
       "    </tr>\n",
       "  </thead>\n",
       "  <tbody>\n",
       "    <tr>\n",
       "      <th>25104</th>\n",
       "      <td>新华社</td>\n",
       "      <td>[新华社, 照片, ，, 外代, ，, 2017, 年, 6, 月, 7, 日, （, 外代...</td>\n",
       "      <td>1</td>\n",
       "    </tr>\n",
       "    <tr>\n",
       "      <th>25105</th>\n",
       "      <td>新华社</td>\n",
       "      <td>[新华社, 照片, ，, 外代, ，, 2017, 年, 6, 月, 7, 日, （, 外代...</td>\n",
       "      <td>1</td>\n",
       "    </tr>\n",
       "    <tr>\n",
       "      <th>25106</th>\n",
       "      <td>新华社</td>\n",
       "      <td>[新华社, 照片, ，, 外代, ，, 2017, 年, 6, 月, 7, 日, （, 外代...</td>\n",
       "      <td>1</td>\n",
       "    </tr>\n",
       "    <tr>\n",
       "      <th>25107</th>\n",
       "      <td>新华社</td>\n",
       "      <td>[新华社, 照片, ，, 北京, ，, 2017, 年, 6, 月, 7, 日, 电影, 《...</td>\n",
       "      <td>1</td>\n",
       "    </tr>\n",
       "    <tr>\n",
       "      <th>25108</th>\n",
       "      <td>新华社</td>\n",
       "      <td>[新华社, 照片, ，, 北京, ，, 2017, 年, 6, 月, 7, 日, 电影, 《...</td>\n",
       "      <td>1</td>\n",
       "    </tr>\n",
       "  </tbody>\n",
       "</table>\n",
       "</div>"
      ],
      "text/plain": [
       "      source                                            content  label\n",
       "25104    新华社  [新华社, 照片, ，, 外代, ，, 2017, 年, 6, 月, 7, 日, （, 外代...      1\n",
       "25105    新华社  [新华社, 照片, ，, 外代, ，, 2017, 年, 6, 月, 7, 日, （, 外代...      1\n",
       "25106    新华社  [新华社, 照片, ，, 外代, ，, 2017, 年, 6, 月, 7, 日, （, 外代...      1\n",
       "25107    新华社  [新华社, 照片, ，, 北京, ，, 2017, 年, 6, 月, 7, 日, 电影, 《...      1\n",
       "25108    新华社  [新华社, 照片, ，, 北京, ，, 2017, 年, 6, 月, 7, 日, 电影, 《...      1"
      ]
     },
     "execution_count": 43,
     "metadata": {},
     "output_type": "execute_result"
    }
   ],
   "source": [
    "df.tail()"
   ]
  },
  {
   "cell_type": "code",
   "execution_count": 45,
   "metadata": {},
   "outputs": [
    {
     "data": {
      "text/plain": [
       "'新华社'"
      ]
     },
     "execution_count": 45,
     "metadata": {},
     "output_type": "execute_result"
    }
   ],
   "source": [
    "df.loc[25108,'content'][0]"
   ]
  },
  {
   "cell_type": "code",
   "execution_count": 46,
   "metadata": {},
   "outputs": [],
   "source": [
    "#去掉新闻正文的‘新华社’字样\n",
    "for i in df['content']:\n",
    "    if '新华社' in i:\n",
    "        i.remove('新华社') "
   ]
  },
  {
   "cell_type": "code",
   "execution_count": 48,
   "metadata": {},
   "outputs": [
    {
     "data": {
      "text/plain": [
       "'照片'"
      ]
     },
     "execution_count": 48,
     "metadata": {},
     "output_type": "execute_result"
    }
   ],
   "source": [
    "df.loc[25108,'content'][0]"
   ]
  },
  {
   "cell_type": "code",
   "execution_count": 49,
   "metadata": {},
   "outputs": [],
   "source": [
    "df['content'] =[' '.join(i) for i in df['content']]"
   ]
  },
  {
   "cell_type": "code",
   "execution_count": 50,
   "metadata": {},
   "outputs": [
    {
     "data": {
      "text/html": [
       "<div>\n",
       "<style scoped>\n",
       "    .dataframe tbody tr th:only-of-type {\n",
       "        vertical-align: middle;\n",
       "    }\n",
       "\n",
       "    .dataframe tbody tr th {\n",
       "        vertical-align: top;\n",
       "    }\n",
       "\n",
       "    .dataframe thead th {\n",
       "        text-align: right;\n",
       "    }\n",
       "</style>\n",
       "<table border=\"1\" class=\"dataframe\">\n",
       "  <thead>\n",
       "    <tr style=\"text-align: right;\">\n",
       "      <th></th>\n",
       "      <th>source</th>\n",
       "      <th>content</th>\n",
       "      <th>label</th>\n",
       "    </tr>\n",
       "  </thead>\n",
       "  <tbody>\n",
       "    <tr>\n",
       "      <th>25104</th>\n",
       "      <td>新华社</td>\n",
       "      <td>照片 ， 外代 ， 2017 年 6 月 7 日 （ 外代 二线 ） 足球 — — 国际 友...</td>\n",
       "      <td>1</td>\n",
       "    </tr>\n",
       "    <tr>\n",
       "      <th>25105</th>\n",
       "      <td>新华社</td>\n",
       "      <td>照片 ， 外代 ， 2017 年 6 月 7 日 （ 外代 二线 ） 足球 — — 国际 友...</td>\n",
       "      <td>1</td>\n",
       "    </tr>\n",
       "    <tr>\n",
       "      <th>25106</th>\n",
       "      <td>新华社</td>\n",
       "      <td>照片 ， 外代 ， 2017 年 6 月 7 日 （ 外代 二线 ） 足球 — — 国际 友...</td>\n",
       "      <td>1</td>\n",
       "    </tr>\n",
       "    <tr>\n",
       "      <th>25107</th>\n",
       "      <td>新华社</td>\n",
       "      <td>照片 ， 北京 ， 2017 年 6 月 7 日 电影 《 血战 湘江 》 举行 清华大学 ...</td>\n",
       "      <td>1</td>\n",
       "    </tr>\n",
       "    <tr>\n",
       "      <th>25108</th>\n",
       "      <td>新华社</td>\n",
       "      <td>照片 ， 北京 ， 2017 年 6 月 7 日 电影 《 血战 湘江 》 举行 清华大学 ...</td>\n",
       "      <td>1</td>\n",
       "    </tr>\n",
       "  </tbody>\n",
       "</table>\n",
       "</div>"
      ],
      "text/plain": [
       "      source                                            content  label\n",
       "25104    新华社  照片 ， 外代 ， 2017 年 6 月 7 日 （ 外代 二线 ） 足球 — — 国际 友...      1\n",
       "25105    新华社  照片 ， 外代 ， 2017 年 6 月 7 日 （ 外代 二线 ） 足球 — — 国际 友...      1\n",
       "25106    新华社  照片 ， 外代 ， 2017 年 6 月 7 日 （ 外代 二线 ） 足球 — — 国际 友...      1\n",
       "25107    新华社  照片 ， 北京 ， 2017 年 6 月 7 日 电影 《 血战 湘江 》 举行 清华大学 ...      1\n",
       "25108    新华社  照片 ， 北京 ， 2017 年 6 月 7 日 电影 《 血战 湘江 》 举行 清华大学 ...      1"
      ]
     },
     "execution_count": 50,
     "metadata": {},
     "output_type": "execute_result"
    }
   ],
   "source": [
    "df.tail()"
   ]
  },
  {
   "cell_type": "code",
   "execution_count": 51,
   "metadata": {},
   "outputs": [
    {
     "data": {
      "text/plain": [
       "array([0, 1, 0, ..., 1, 1, 1], dtype=int64)"
      ]
     },
     "execution_count": 51,
     "metadata": {},
     "output_type": "execute_result"
    }
   ],
   "source": [
    "df['label'].values"
   ]
  },
  {
   "cell_type": "code",
   "execution_count": 52,
   "metadata": {},
   "outputs": [
    {
     "name": "stdout",
     "output_type": "stream",
     "text": [
      "(20898,)\n",
      "(2322,)\n"
     ]
    }
   ],
   "source": [
    "from sklearn.model_selection import train_test_split\n",
    "\n",
    "y = df['label'].values\n",
    "\n",
    "x_train, x_test, y_train, y_test = train_test_split(df['content'].values, y,          #  https://scikit-learn.org/stable/modules/generated/sklearn.model_selection.train_test_split.html#sklearn.model_selection.train_test_split\n",
    "                                                  stratify=y, \n",
    "                                                  random_state=42, \n",
    "                                                  test_size=0.1, shuffle=True)\n",
    "\n",
    "print (x_train.shape)\n",
    "print (x_test.shape)"
   ]
  },
  {
   "cell_type": "code",
   "execution_count": 53,
   "metadata": {},
   "outputs": [],
   "source": [
    "from sklearn.feature_extraction.text import CountVectorizer, TfidfVectorizer\n",
    "from sklearn.naive_bayes import MultinomialNB\n",
    "from sklearn.metrics import classification_report"
   ]
  },
  {
   "cell_type": "code",
   "execution_count": 56,
   "metadata": {},
   "outputs": [],
   "source": [
    "#停用词\n",
    "stwlist=[line.strip() for line in open('F:/BaiduYunDownload/Project01/content/stopwords.txt',\n",
    "                                       'r',encoding='utf-8').readlines()]"
   ]
  },
  {
   "cell_type": "markdown",
   "metadata": {},
   "source": [
    "# Vectorize the sentence"
   ]
  },
  {
   "cell_type": "code",
   "execution_count": 57,
   "metadata": {},
   "outputs": [
    {
     "name": "stderr",
     "output_type": "stream",
     "text": [
      "C:\\Users\\lenovo\\Anaconda3\\lib\\site-packages\\sklearn\\feature_extraction\\text.py:300: UserWarning: Your stop_words may be inconsistent with your preprocessing. Tokenizing the stop words generated tokens ['lex', '①①', '①②', '①③', '①④', '①⑤', '①⑥', '①⑦', '①⑧', '①⑨', '①ａ', '①ｂ', '①ｃ', '①ｄ', '①ｅ', '①ｆ', '①ｇ', '①ｈ', '①ｉ', '①ｏ', '②①', '②②', '②③', '②④', '②⑤', '②⑥', '②⑦', '②⑧', '②⑩', '②ａ', '②ｂ', '②ｄ', '②ｅ', '②ｆ', '②ｇ', '②ｈ', '②ｉ', '②ｊ', '③①', '③⑩', '③ａ', '③ｂ', '③ｃ', '③ｄ', '③ｅ', '③ｆ', '③ｇ', '③ｈ', '④ａ', '④ｂ', '④ｃ', '④ｄ', '④ｅ', '⑤ａ', '⑤ｂ', '⑤ｄ', '⑤ｅ', '⑤ｆ', '１２', 'ｌｉ', 'ｚｘｆｉｔｌ'] not in stop_words.\n",
      "  'stop_words.' % sorted(inconsistent))\n"
     ]
    }
   ],
   "source": [
    "# 采用普通统计CountVectorizer提取特征向量\n",
    "# 默认配置不去除停用词\n",
    "count_vec = CountVectorizer()\n",
    "x_count_train = count_vec.fit_transform(x_train)\n",
    "x_count_test = count_vec.transform(x_test)\n",
    "\n",
    "# 去除停用词\n",
    "count_stop_vec = CountVectorizer(analyzer='word', stop_words=stwlist)\n",
    "x_count_stop_train = count_stop_vec.fit_transform(x_train)\n",
    "x_count_stop_test = count_stop_vec.transform(x_test)\n",
    "\n",
    "# 采用TfidfVectorizer提取文本特征向量\n",
    "# 默认配置不去除停用词\n",
    "tfid_vec = TfidfVectorizer()\n",
    "x_tfid_train = tfid_vec.fit_transform(x_train)\n",
    "x_tfid_test = tfid_vec.transform(x_test)\n",
    "\n",
    "# 去除停用词\n",
    "tfid_stop_vec = TfidfVectorizer(analyzer='word', stop_words=stwlist)\n",
    "x_tfid_stop_train = tfid_stop_vec.fit_transform(x_train)\n",
    "x_tfid_stop_test = tfid_stop_vec.transform(x_test)"
   ]
  },
  {
   "cell_type": "markdown",
   "metadata": {},
   "source": [
    "###### 2. Secondly,  pick a machine learning algorithm that you think is suitable for this task"
   ]
  },
  {
   "cell_type": "markdown",
   "metadata": {},
   "source": [
    "# 贝叶斯分类器"
   ]
  },
  {
   "cell_type": "code",
   "execution_count": 58,
   "metadata": {},
   "outputs": [],
   "source": [
    "from time import time\n",
    "import matplotlib.pyplot as plt\n",
    "from sklearn import metrics"
   ]
  },
  {
   "cell_type": "code",
   "execution_count": 59,
   "metadata": {},
   "outputs": [
    {
     "name": "stdout",
     "output_type": "stream",
     "text": [
      "train time: 2.680s\n",
      "test time: 0.310s\n",
      "accuracy:   0.925\n",
      " \n",
      "未去除停用词的CountVectorizer提取的特征学习模型准确率： 0.9250645994832042\n",
      "评估指标:\n",
      "               precision    recall  f1-score   support\n",
      "\n",
      "           0       0.82      0.59      0.69       325\n",
      "           1       0.94      0.98      0.96      1997\n",
      "\n",
      "   micro avg       0.93      0.93      0.93      2322\n",
      "   macro avg       0.88      0.79      0.82      2322\n",
      "weighted avg       0.92      0.93      0.92      2322\n",
      "\n"
     ]
    }
   ],
   "source": [
    "# 使用朴素贝叶斯分类器  分别对两种提取出来的特征值进行学习和预测\n",
    "# 对普通通统计CountVectorizer提取特征向量 学习和预测\n",
    "mnb_count = MultinomialNB()\n",
    "\n",
    "t0=time()\n",
    "mnb_count.fit(x_count_train, y_train)   # 学习\n",
    "train_time=time()-t0\n",
    "print(\"train time: %0.3fs\" % train_time)\n",
    "\n",
    "t0=time()\n",
    "mnb_count_y_predict = mnb_count.predict(x_count_test)   # 预测\n",
    "test_time=time()-t0\n",
    "print(\"test time: %0.3fs\" % test_time)\n",
    "\n",
    "score = metrics.accuracy_score(y_test, mnb_count_y_predict)\n",
    "print(\"accuracy:   %0.3f\" % score)\n",
    "print(\" \")\n",
    " \n",
    "# 模型评估\n",
    "# 对普通统计CountVectorizer提取的特征学习模型进行评估\n",
    "print(\"未去除停用词的CountVectorizer提取的特征学习模型准确率：\", mnb_count.score(x_count_test, y_test))\n",
    "print(\"评估指标:\\n\", classification_report(mnb_count_y_predict, y_test))\n",
    "\n",
    "results = []\n",
    "results.append(('NB_count',score,train_time,test_time))"
   ]
  },
  {
   "cell_type": "code",
   "execution_count": 60,
   "metadata": {},
   "outputs": [
    {
     "name": "stdout",
     "output_type": "stream",
     "text": [
      "train time: 0.081s\n",
      "test time: 0.010s\n",
      "accuracy:   0.927\n",
      " \n",
      "去除停用词的CountVectorizer提取的特征学习模型准确率： 0.9272179155900087\n",
      "评估指标:\n",
      "               precision    recall  f1-score   support\n",
      "\n",
      "           0       0.82      0.60      0.70       320\n",
      "           1       0.94      0.98      0.96      2002\n",
      "\n",
      "   micro avg       0.93      0.93      0.93      2322\n",
      "   macro avg       0.88      0.79      0.83      2322\n",
      "weighted avg       0.92      0.93      0.92      2322\n",
      "\n"
     ]
    }
   ],
   "source": [
    "# 对普通通统计CountVectorizer提取特征向量 学习和预测\n",
    "# 去除停用词\n",
    "mnb_count_stop = MultinomialNB()\n",
    "\n",
    "t0=time()\n",
    "mnb_count_stop.fit(x_count_stop_train, y_train)   # 学习\n",
    "train_time=time()-t0\n",
    "print(\"train time: %0.3fs\" % train_time)\n",
    "\n",
    "t0=time()\n",
    "mnb_count_stop_y_predict = mnb_count_stop.predict(x_count_stop_test)    # 预测\n",
    "test_time=time()-t0\n",
    "print(\"test time: %0.3fs\" % test_time)\n",
    "\n",
    "score = metrics.accuracy_score(y_test, mnb_count_stop_y_predict)\n",
    "print(\"accuracy:   %0.3f\" % score)\n",
    "print(\" \")\n",
    "\n",
    "print(\"去除停用词的CountVectorizer提取的特征学习模型准确率：\", mnb_count_stop.score(x_count_stop_test, y_test))\n",
    "print(\"评估指标:\\n\", classification_report(mnb_count_stop_y_predict, y_test))\n",
    "\n",
    "results.append(('NB_count_rmvstpw',score,train_time,test_time))"
   ]
  },
  {
   "cell_type": "code",
   "execution_count": 61,
   "metadata": {},
   "outputs": [
    {
     "name": "stdout",
     "output_type": "stream",
     "text": [
      "train time: 0.094s\n",
      "test time: 0.009s\n",
      "accuracy:   0.901\n",
      " \n",
      "TfidVectorizer提取的特征学习模型准确率： 0.9013781223083549\n",
      "评估指标:\n",
      "               precision    recall  f1-score   support\n",
      "\n",
      "           0       0.03      1.00      0.05         6\n",
      "           1       1.00      0.90      0.95      2316\n",
      "\n",
      "   micro avg       0.90      0.90      0.90      2322\n",
      "   macro avg       0.51      0.95      0.50      2322\n",
      "weighted avg       1.00      0.90      0.95      2322\n",
      "\n"
     ]
    }
   ],
   "source": [
    "# 对TfidfVectorizer提取文本特征向量 学习和预测\n",
    "mnb_tfid = MultinomialNB()\n",
    "\n",
    "t0=time()\n",
    "mnb_tfid.fit(x_tfid_train, y_train)\n",
    "train_time=time()-t0\n",
    "print(\"train time: %0.3fs\" % train_time)\n",
    "\n",
    "t0=time()\n",
    "mnb_tfid_y_predict = mnb_tfid.predict(x_tfid_test)\n",
    "test_time=time()-t0\n",
    "print(\"test time: %0.3fs\" % test_time)\n",
    "\n",
    "score = metrics.accuracy_score(y_test, mnb_tfid_y_predict)\n",
    "print(\"accuracy:   %0.3f\" % score)\n",
    "print(\" \")\n",
    "\n",
    "# 对TfidVectorizer提取的特征学习模型进行评估\n",
    "print(\"TfidVectorizer提取的特征学习模型准确率：\", mnb_tfid.score(x_tfid_test, y_test))\n",
    "print(\"评估指标:\\n\", classification_report(mnb_tfid_y_predict, y_test))\n",
    "\n",
    "results.append(('NB_tfid',score,train_time,test_time))"
   ]
  },
  {
   "cell_type": "code",
   "execution_count": 62,
   "metadata": {},
   "outputs": [
    {
     "name": "stdout",
     "output_type": "stream",
     "text": [
      "train time: 0.080s\n",
      "test time: 0.009s\n",
      "accuracy:   0.901\n",
      " \n",
      "去除停用词的TfidVectorizer提取的特征学习模型准确率： 0.9013781223083549\n",
      "评估指标:\n",
      "               precision    recall  f1-score   support\n",
      "\n",
      "           0       0.03      1.00      0.05         6\n",
      "           1       1.00      0.90      0.95      2316\n",
      "\n",
      "   micro avg       0.90      0.90      0.90      2322\n",
      "   macro avg       0.51      0.95      0.50      2322\n",
      "weighted avg       1.00      0.90      0.95      2322\n",
      "\n"
     ]
    }
   ],
   "source": [
    "# 去除停用词\n",
    "mnb_tfid_stop = MultinomialNB()\n",
    "\n",
    "t0=time()\n",
    "mnb_tfid_stop.fit(x_tfid_stop_train, y_train)   # 学习\n",
    "train_time=time()-t0\n",
    "print(\"train time: %0.3fs\" % train_time)\n",
    "\n",
    "t0=time()\n",
    "mnb_tfid_stop_y_predict = mnb_tfid_stop.predict(x_tfid_stop_test)    # 预测\n",
    "test_time=time()-t0\n",
    "print(\"test time: %0.3fs\" % test_time)\n",
    "\n",
    "score = metrics.accuracy_score(y_test, mnb_tfid_stop_y_predict)\n",
    "print(\"accuracy:   %0.3f\" % score)\n",
    "print(\" \")\n",
    "\n",
    "print(\"去除停用词的TfidVectorizer提取的特征学习模型准确率：\", mnb_tfid_stop.score(x_tfid_stop_test, y_test))\n",
    "print(\"评估指标:\\n\", classification_report(mnb_tfid_stop_y_predict, y_test))\n",
    "\n",
    "results.append(('NB_tfid_rmvstpw',score,train_time,test_time))"
   ]
  },
  {
   "cell_type": "markdown",
   "metadata": {},
   "source": [
    "### Congratulations! You have completed all assignments in this week. The question below is optional. If you still have time, why don't try it out."
   ]
  },
  {
   "cell_type": "markdown",
   "metadata": {},
   "source": [
    "## Option:"
   ]
  },
  {
   "cell_type": "markdown",
   "metadata": {},
   "source": [
    "#### Try differnt machine learning algorithms with different combinations of parameters in the practical part, and compare their performances (Better use some visualization techiniques)."
   ]
  },
  {
   "cell_type": "markdown",
   "metadata": {},
   "source": [
    "# 去停用词效果会好一丢丢，下面的模型使用去停用词的数据训练"
   ]
  },
  {
   "cell_type": "markdown",
   "metadata": {},
   "source": [
    "# KNN"
   ]
  },
  {
   "cell_type": "code",
   "execution_count": 63,
   "metadata": {},
   "outputs": [],
   "source": [
    "# from sklearn.pipeline import Pipeline #管道机制\n",
    "# from sklearn.preprocessing import StandardScaler #标准化/归一化数据\n",
    "from sklearn.neighbors import KNeighborsClassifier #knn分类"
   ]
  },
  {
   "cell_type": "code",
   "execution_count": 64,
   "metadata": {},
   "outputs": [
    {
     "name": "stdout",
     "output_type": "stream",
     "text": [
      "train time: 0.066s\n",
      "test time: 181.761s\n",
      "accuracy:   0.909\n",
      " \n",
      "去除停用词的CountVectorizer提取的特征学习模型准确率： 0.909130060292851\n",
      "评估指标:\n",
      "               precision    recall  f1-score   support\n",
      "\n",
      "           0       0.29      0.61      0.39       112\n",
      "           1       0.98      0.92      0.95      2210\n",
      "\n",
      "   micro avg       0.91      0.91      0.91      2322\n",
      "   macro avg       0.63      0.77      0.67      2322\n",
      "weighted avg       0.95      0.91      0.92      2322\n",
      "\n"
     ]
    }
   ],
   "source": [
    "knn_count_stop = KNeighborsClassifier(n_neighbors=5)\n",
    "\n",
    "t0=time()\n",
    "knn_count_stop.fit(x_count_stop_train,y_train) #训练模型\n",
    "train_time=time()-t0\n",
    "print(\"train time: %0.3fs\" % train_time)\n",
    "\n",
    "t0=time()\n",
    "knn_count_stop_y_predict=knn_count_stop.predict(x_count_stop_test) #预测结果\n",
    "test_time=time()-t0\n",
    "print(\"test time: %0.3fs\" % test_time)\n",
    "\n",
    "score = metrics.accuracy_score(y_test, knn_count_stop_y_predict)\n",
    "print(\"accuracy:   %0.3f\" % score)\n",
    "print(\" \")\n",
    "\n",
    "# 对TfidVectorizer提取的特征学习模型进行评估\n",
    "print(\"去除停用词的CountVectorizer提取的特征学习模型准确率：\", knn_count_stop.score(x_count_stop_test, y_test))\n",
    "print(\"评估指标:\\n\", classification_report(knn_count_stop_y_predict, y_test))\n",
    "\n",
    "results.append(('KNN_count_rmvstpw',score,train_time,test_time))"
   ]
  },
  {
   "cell_type": "code",
   "execution_count": 65,
   "metadata": {},
   "outputs": [
    {
     "name": "stdout",
     "output_type": "stream",
     "text": [
      "train time: 5.200s\n",
      "test time: 181.761s\n",
      "accuracy:   0.905\n",
      " \n",
      "去除停用词的TfidVectorizer提取的特征学习模型准确率： 0.905254091300603\n",
      "评估指标:\n",
      "               precision    recall  f1-score   support\n",
      "\n",
      "           0       0.07      0.94      0.13        17\n",
      "           1       1.00      0.90      0.95      2305\n",
      "\n",
      "   micro avg       0.91      0.91      0.91      2322\n",
      "   macro avg       0.53      0.92      0.54      2322\n",
      "weighted avg       0.99      0.91      0.94      2322\n",
      "\n"
     ]
    }
   ],
   "source": [
    "knn_tfid_stop = KNeighborsClassifier(n_neighbors=5)\n",
    "\n",
    "t0=time()\n",
    "knn_tfid_stop.fit(x_tfid_stop_train, y_train)   # 学习\n",
    "train_time=time()-t0\n",
    "print(\"train time: %0.3fs\" % train_time)\n",
    "\n",
    "t0=time()\n",
    "knn_tfid_stop_y_predict = knn_tfid_stop.predict(x_tfid_stop_test)    # 预测\n",
    "print(\"test time: %0.3fs\" % test_time)\n",
    "\n",
    "score = metrics.accuracy_score(y_test, knn_tfid_stop_y_predict)\n",
    "test_time=time()-t0\n",
    "print(\"accuracy:   %0.3f\" % score)\n",
    "print(\" \")\n",
    "\n",
    "print(\"去除停用词的TfidVectorizer提取的特征学习模型准确率：\", knn_tfid_stop.score(x_tfid_stop_test, y_test))\n",
    "print(\"评估指标:\\n\", classification_report(knn_tfid_stop_y_predict, y_test))\n",
    "\n",
    "results.append(('KNN_tfid_rmvstpw',score,train_time,test_time))"
   ]
  },
  {
   "cell_type": "markdown",
   "metadata": {},
   "source": [
    "# random forest"
   ]
  },
  {
   "cell_type": "code",
   "execution_count": 66,
   "metadata": {},
   "outputs": [],
   "source": [
    "from sklearn.ensemble import RandomForestClassifier"
   ]
  },
  {
   "cell_type": "code",
   "execution_count": 67,
   "metadata": {},
   "outputs": [
    {
     "name": "stderr",
     "output_type": "stream",
     "text": [
      "C:\\Users\\lenovo\\Anaconda3\\lib\\site-packages\\sklearn\\ensemble\\forest.py:246: FutureWarning: The default value of n_estimators will change from 10 in version 0.20 to 100 in 0.22.\n",
      "  \"10 in version 0.20 to 100 in 0.22.\", FutureWarning)\n"
     ]
    },
    {
     "name": "stdout",
     "output_type": "stream",
     "text": [
      "train time: 13.756s\n",
      "test time: 0.415s\n",
      "accuracy:   0.939\n",
      " \n",
      "去除停用词的CountVectorizer提取的特征学习模型准确率： 0.9392764857881137\n",
      "评估指标:\n",
      "               precision    recall  f1-score   support\n",
      "\n",
      "           0       0.49      0.85      0.62       136\n",
      "           1       0.99      0.95      0.97      2186\n",
      "\n",
      "   micro avg       0.94      0.94      0.94      2322\n",
      "   macro avg       0.74      0.90      0.79      2322\n",
      "weighted avg       0.96      0.94      0.95      2322\n",
      "\n"
     ]
    }
   ],
   "source": [
    "rf_count_stop = RandomForestClassifier()\n",
    "\n",
    "t0=time()\n",
    "rf_count_stop.fit(x_count_stop_train,y_train) #训练模型\n",
    "train_time=time()-t0\n",
    "print(\"train time: %0.3fs\" % train_time)\n",
    "\n",
    "t0=time()\n",
    "rf_count_stop_y_predict=rf_count_stop.predict(x_count_stop_test) #预测结果\n",
    "test_time=time()-t0\n",
    "print(\"test time: %0.3fs\" % test_time)\n",
    "\n",
    "score = metrics.accuracy_score(y_test, rf_count_stop_y_predict)\n",
    "print(\"accuracy:   %0.3f\" % score)\n",
    "print(\" \")\n",
    "\n",
    "# 对TfidVectorizer提取的特征学习模型进行评估\n",
    "print(\"去除停用词的CountVectorizer提取的特征学习模型准确率：\", rf_count_stop.score(x_count_stop_test, y_test))\n",
    "print(\"评估指标:\\n\", classification_report(rf_count_stop_y_predict, y_test))\n",
    "\n",
    "results.append(('rf_count_rmvstpw',score,train_time,test_time))"
   ]
  },
  {
   "cell_type": "code",
   "execution_count": 68,
   "metadata": {},
   "outputs": [
    {
     "name": "stderr",
     "output_type": "stream",
     "text": [
      "C:\\Users\\lenovo\\Anaconda3\\lib\\site-packages\\sklearn\\ensemble\\forest.py:246: FutureWarning: The default value of n_estimators will change from 10 in version 0.20 to 100 in 0.22.\n",
      "  \"10 in version 0.20 to 100 in 0.22.\", FutureWarning)\n"
     ]
    },
    {
     "name": "stdout",
     "output_type": "stream",
     "text": [
      "train time: 27.288s\n",
      "test time: 1.008s\n",
      "accuracy:   0.928\n",
      " \n",
      "去除停用词的TfidVectorizer提取的特征学习模型准确率： 0.9276485788113695\n",
      "评估指标:\n",
      "               precision    recall  f1-score   support\n",
      "\n",
      "           0       0.34      0.87      0.48        91\n",
      "           1       0.99      0.93      0.96      2231\n",
      "\n",
      "   micro avg       0.93      0.93      0.93      2322\n",
      "   macro avg       0.67      0.90      0.72      2322\n",
      "weighted avg       0.97      0.93      0.94      2322\n",
      "\n"
     ]
    }
   ],
   "source": [
    "# 去除停用词\n",
    "rf_tfid_stop = RandomForestClassifier()\n",
    "\n",
    "t0=time()\n",
    "rf_tfid_stop.fit(x_tfid_stop_train, y_train)   # 学习\n",
    "train_time=time()-t0\n",
    "print(\"train time: %0.3fs\" % train_time)\n",
    "\n",
    "t0=time()\n",
    "rf_tfid_stop_y_predict = rf_tfid_stop.predict(x_tfid_stop_test)    # 预测\n",
    "test_time=time()-t0\n",
    "print(\"test time: %0.3fs\" % test_time)\n",
    "\n",
    "score = metrics.accuracy_score(y_test, rf_tfid_stop_y_predict)\n",
    "print(\"accuracy:   %0.3f\" % score)\n",
    "print(\" \")\n",
    "\n",
    "print(\"去除停用词的TfidVectorizer提取的特征学习模型准确率：\", rf_tfid_stop.score(x_tfid_stop_test, y_test))\n",
    "print(\"评估指标:\\n\", classification_report(rf_tfid_stop_y_predict, y_test))\n",
    "\n",
    "results.append(('rf_tfid_rmvstpw',score,train_time,test_time))"
   ]
  },
  {
   "cell_type": "markdown",
   "metadata": {},
   "source": [
    "# svm"
   ]
  },
  {
   "cell_type": "code",
   "execution_count": 69,
   "metadata": {},
   "outputs": [],
   "source": [
    "from sklearn.svm import SVC\n",
    "from sklearn.decomposition import TruncatedSVD\n",
    "from sklearn.preprocessing import StandardScaler #标准化/归一化数据"
   ]
  },
  {
   "cell_type": "code",
   "execution_count": 71,
   "metadata": {},
   "outputs": [],
   "source": [
    "#SVD降维\n",
    "svd_count = TruncatedSVD(n_components=120)\n",
    "svd_count.fit(x_count_stop_train)\n",
    "x_count_train_svd = svd_count.transform(x_count_stop_train)\n",
    "x_count_test_svd = svd_count.transform(x_count_stop_test)\n",
    "\n",
    "#归一化数据\n",
    "scl_count = StandardScaler()\n",
    "scl_count.fit(x_count_train_svd)\n",
    "x_count_train_svd_scl = scl_count.transform(x_count_train_svd)\n",
    "x_count_test_svd_scl = scl_count.transform(x_count_test_svd)\n",
    "\n",
    "#SVD降维\n",
    "svd_tfid = TruncatedSVD(n_components=120)\n",
    "svd_tfid.fit(x_tfid_stop_train)\n",
    "x_tfid_train_svd = svd_tfid.transform(x_tfid_stop_train)\n",
    "x_tfid_test_svd = svd_tfid.transform(x_tfid_stop_test)\n",
    "\n",
    "#归一化数据\n",
    "scl_tfid = StandardScaler()\n",
    "scl_tfid.fit(x_tfid_train_svd)\n",
    "x_tfid_train_svd_scl = scl_tfid.transform(x_tfid_train_svd)\n",
    "x_tfid_test_svd_scl = scl_tfid.transform(x_tfid_test_svd)"
   ]
  },
  {
   "cell_type": "code",
   "execution_count": 72,
   "metadata": {},
   "outputs": [
    {
     "name": "stdout",
     "output_type": "stream",
     "text": [
      "train time: 103.976s\n",
      "test time: 2.790s\n",
      "accuracy:   0.929\n",
      " \n",
      "去除停用词的CountVectorizer提取的特征学习模型准确率： 0.9289405684754521\n",
      "评估指标:\n",
      "               precision    recall  f1-score   support\n",
      "\n",
      "           0       0.35      0.86      0.50        96\n",
      "           1       0.99      0.93      0.96      2226\n",
      "\n",
      "   micro avg       0.93      0.93      0.93      2322\n",
      "   macro avg       0.67      0.90      0.73      2322\n",
      "weighted avg       0.97      0.93      0.94      2322\n",
      "\n"
     ]
    }
   ],
   "source": [
    "#svm\n",
    "svm_count = SVC() \n",
    "\n",
    "t0=time()\n",
    "svm_count.fit(x_count_train_svd_scl, y_train)\n",
    "train_time=time()-t0\n",
    "print(\"train time: %0.3fs\" % train_time)\n",
    "\n",
    "t0=time()\n",
    "svm_count_y_predict = svm_count.predict(x_count_test_svd_scl)\n",
    "test_time=time()-t0\n",
    "print(\"test time: %0.3fs\" % test_time)\n",
    "\n",
    "score = metrics.accuracy_score(y_test, svm_count_y_predict)\n",
    "print(\"accuracy:   %0.3f\" % score)\n",
    "print(\" \")\n",
    "\n",
    "print(\"去除停用词的CountVectorizer提取的特征学习模型准确率：\", svm_count.score(x_count_test_svd_scl, y_test))\n",
    "print(\"评估指标:\\n\", classification_report(svm_count_y_predict, y_test))\n",
    "\n",
    "results.append(('svm_count_rmvstpw',score,train_time,test_time))"
   ]
  },
  {
   "cell_type": "code",
   "execution_count": 73,
   "metadata": {},
   "outputs": [
    {
     "name": "stdout",
     "output_type": "stream",
     "text": [
      "train time: 32.105s\n",
      "test time: 2.507s\n",
      "accuracy:   0.923\n",
      " \n",
      "去除停用词的TfidVectorizer提取的特征学习模型准确率： 0.9229112833763996\n",
      "评估指标:\n",
      "               precision    recall  f1-score   support\n",
      "\n",
      "           0       0.29      0.85      0.43        80\n",
      "           1       0.99      0.93      0.96      2242\n",
      "\n",
      "   micro avg       0.92      0.92      0.92      2322\n",
      "   macro avg       0.64      0.89      0.70      2322\n",
      "weighted avg       0.97      0.92      0.94      2322\n",
      "\n"
     ]
    }
   ],
   "source": [
    "#svm\n",
    "svm_tfid = SVC() \n",
    "\n",
    "t0=time()\n",
    "svm_tfid.fit(x_tfid_train_svd_scl, y_train)\n",
    "train_time=time()-t0\n",
    "print(\"train time: %0.3fs\" % train_time)\n",
    "\n",
    "t0=time()\n",
    "svm_tfid_y_predict = svm_tfid.predict(x_tfid_test_svd_scl)\n",
    "test_time=time()-t0\n",
    "print(\"test time: %0.3fs\" % test_time)\n",
    "\n",
    "score = metrics.accuracy_score(y_test, svm_tfid_y_predict)\n",
    "print(\"accuracy:   %0.3f\" % score)\n",
    "print(\" \")\n",
    "\n",
    "print(\"去除停用词的TfidVectorizer提取的特征学习模型准确率：\", svm_tfid.score(x_tfid_test_svd_scl, y_test))\n",
    "print(\"评估指标:\\n\", classification_report(svm_tfid_y_predict, y_test))\n",
    "\n",
    "results.append(('svm_tfid_rmvstpw',score,train_time,test_time))"
   ]
  },
  {
   "cell_type": "markdown",
   "metadata": {},
   "source": [
    "# XGBoost"
   ]
  },
  {
   "cell_type": "code",
   "execution_count": 76,
   "metadata": {},
   "outputs": [],
   "source": [
    "import xgboost as xgb"
   ]
  },
  {
   "cell_type": "code",
   "execution_count": 75,
   "metadata": {},
   "outputs": [
    {
     "name": "stdout",
     "output_type": "stream",
     "text": [
      "Looking in indexes: http://pypi.douban.com/simple\n",
      "Collecting xgboost\n",
      "  Downloading http://pypi.doubanio.com/packages/5e/49/b95c037b717b4ceadc76b6e164603471225c27052d1611d5a2e832757945/xgboost-0.90-py2.py3-none-win_amd64.whl (18.3MB)\n",
      "Requirement already satisfied: numpy in c:\\users\\lenovo\\anaconda3\\lib\\site-packages (from xgboost) (1.17.3)\n",
      "Requirement already satisfied: scipy in c:\\users\\lenovo\\anaconda3\\lib\\site-packages (from xgboost) (1.1.0)\n",
      "Installing collected packages: xgboost\n",
      "Successfully installed xgboost-0.90\n"
     ]
    }
   ],
   "source": [
    "#!pip install xgboost"
   ]
  },
  {
   "cell_type": "code",
   "execution_count": 77,
   "metadata": {},
   "outputs": [
    {
     "name": "stdout",
     "output_type": "stream",
     "text": [
      "train time: 26.675s\n",
      "test time: 0.500s\n",
      "accuracy:   0.929\n",
      " \n",
      "去除停用词的CountVectorizer提取的特征学习模型准确率： 0.9289405684754521\n",
      "评估指标:\n",
      "               precision    recall  f1-score   support\n",
      "\n",
      "           0       0.40      0.80      0.53       118\n",
      "           1       0.99      0.94      0.96      2204\n",
      "\n",
      "   micro avg       0.93      0.93      0.93      2322\n",
      "   macro avg       0.69      0.87      0.75      2322\n",
      "weighted avg       0.96      0.93      0.94      2322\n",
      "\n"
     ]
    }
   ],
   "source": [
    "#svd降维归一化后的数据\n",
    "xgb_count = xgb.XGBClassifier(nthread=10)\n",
    "\n",
    "t0=time()\n",
    "xgb_count.fit(x_count_train_svd_scl, y_train)\n",
    "train_time=time()-t0\n",
    "print(\"train time: %0.3fs\" % train_time)\n",
    "\n",
    "t0=time()\n",
    "xgb_count_y_predict = xgb_count.predict(x_count_test_svd_scl)\n",
    "test_time=time()-t0\n",
    "print(\"test time: %0.3fs\" % test_time)\n",
    "\n",
    "score = metrics.accuracy_score(y_test, xgb_count_y_predict)\n",
    "print(\"accuracy:   %0.3f\" % score)\n",
    "print(\" \")\n",
    "\n",
    "print(\"去除停用词的CountVectorizer提取的特征学习模型准确率：\", xgb_count.score(x_count_test_svd_scl, y_test))\n",
    "print(\"评估指标:\\n\", classification_report(xgb_count_y_predict, y_test))\n",
    "\n",
    "results.append(('xgb_count_rmvstpw',score,train_time,test_time))"
   ]
  },
  {
   "cell_type": "code",
   "execution_count": 78,
   "metadata": {},
   "outputs": [
    {
     "name": "stdout",
     "output_type": "stream",
     "text": [
      "train time: 76.511s\n",
      "test time: 0.090s\n",
      "accuracy:   0.947\n",
      " \n",
      "去除停用词的CountVectorizer提取的特征学习模型准确率： 0.9465977605512489\n",
      "评估指标:\n",
      "               precision    recall  f1-score   support\n",
      "\n",
      "           0       0.56      0.87      0.68       151\n",
      "           1       0.99      0.95      0.97      2171\n",
      "\n",
      "   micro avg       0.95      0.95      0.95      2322\n",
      "   macro avg       0.77      0.91      0.82      2322\n",
      "weighted avg       0.96      0.95      0.95      2322\n",
      "\n"
     ]
    }
   ],
   "source": [
    "#svd降维归一化后的数据\n",
    "xgb_count_2 = xgb.XGBClassifier(max_depth=7, n_estimators=200, colsample_bytree=0.8, \n",
    "                              subsample=0.8, nthread=10, learning_rate=0.1)\n",
    "\n",
    "t0=time()\n",
    "xgb_count_2.fit(x_count_train_svd_scl, y_train)\n",
    "train_time=time()-t0\n",
    "print(\"train time: %0.3fs\" % train_time)\n",
    "\n",
    "t0=time()\n",
    "xgb_count_2_y_predict = xgb_count_2.predict(x_count_test_svd_scl)\n",
    "test_time=time()-t0\n",
    "print(\"test time: %0.3fs\" % test_time)\n",
    "\n",
    "score = metrics.accuracy_score(y_test, xgb_count_2_y_predict)\n",
    "print(\"accuracy:   %0.3f\" % score)\n",
    "print(\" \")\n",
    "\n",
    "print(\"去除停用词的CountVectorizer提取的特征学习模型准确率：\", xgb_count_2.score(x_count_test_svd_scl, y_test))\n",
    "print(\"评估指标:\\n\", classification_report(xgb_count_2_y_predict, y_test))\n",
    "\n",
    "results.append(('xgb_count_2_rmvstpw',score,train_time,test_time))"
   ]
  },
  {
   "cell_type": "code",
   "execution_count": 79,
   "metadata": {},
   "outputs": [
    {
     "name": "stdout",
     "output_type": "stream",
     "text": [
      "train time: 24.217s\n",
      "test time: 0.044s\n",
      "accuracy:   0.930\n",
      " \n",
      "去除停用词的TfidVectorizer提取的特征学习模型准确率： 0.9302325581395349\n",
      "评估指标:\n",
      "               precision    recall  f1-score   support\n",
      "\n",
      "           0       0.37      0.86      0.52       101\n",
      "           1       0.99      0.93      0.96      2221\n",
      "\n",
      "   micro avg       0.93      0.93      0.93      2322\n",
      "   macro avg       0.68      0.90      0.74      2322\n",
      "weighted avg       0.97      0.93      0.94      2322\n",
      "\n"
     ]
    }
   ],
   "source": [
    "xgb_tfid = xgb.XGBClassifier(nthread=10)\n",
    "\n",
    "t0=time()\n",
    "xgb_tfid.fit(x_tfid_train_svd_scl, y_train)\n",
    "train_time=time()-t0\n",
    "print(\"train time: %0.3fs\" % train_time)\n",
    "\n",
    "t0=time()\n",
    "xgb_tfid_y_predict = xgb_tfid.predict(x_tfid_test_svd_scl)\n",
    "test_time=time()-t0\n",
    "print(\"test time: %0.3fs\" % test_time)\n",
    "\n",
    "score = metrics.accuracy_score(y_test, xgb_tfid_y_predict)\n",
    "print(\"accuracy:   %0.3f\" % score)\n",
    "print(\" \")\n",
    "\n",
    "print(\"去除停用词的TfidVectorizer提取的特征学习模型准确率：\", xgb_tfid.score(x_tfid_test_svd_scl, y_test))\n",
    "print(\"评估指标:\\n\", classification_report(xgb_tfid_y_predict, y_test))\n",
    "\n",
    "results.append(('xgb_tfid_rmvstpw',score,train_time,test_time))"
   ]
  },
  {
   "cell_type": "code",
   "execution_count": 80,
   "metadata": {},
   "outputs": [
    {
     "name": "stdout",
     "output_type": "stream",
     "text": [
      "train time: 69.237s\n",
      "test time: 0.111s\n",
      "accuracy:   0.946\n",
      " \n",
      "去除停用词的TfidVectorizer提取的特征学习模型准确率： 0.946167097329888\n",
      "评估指标:\n",
      "               precision    recall  f1-score   support\n",
      "\n",
      "           0       0.55      0.87      0.67       148\n",
      "           1       0.99      0.95      0.97      2174\n",
      "\n",
      "   micro avg       0.95      0.95      0.95      2322\n",
      "   macro avg       0.77      0.91      0.82      2322\n",
      "weighted avg       0.96      0.95      0.95      2322\n",
      "\n"
     ]
    }
   ],
   "source": [
    "xgb_tfid_2 = xgb.XGBClassifier(max_depth=7, n_estimators=200, colsample_bytree=0.8, \n",
    "                              subsample=0.8, nthread=10, learning_rate=0.1)\n",
    "\n",
    "t0=time()\n",
    "xgb_tfid_2.fit(x_tfid_train_svd_scl, y_train)\n",
    "train_time=time()-t0\n",
    "print(\"train time: %0.3fs\" % train_time)\n",
    "\n",
    "t0=time()\n",
    "xgb_tfid_2_y_predict = xgb_tfid_2.predict(x_tfid_test_svd_scl)\n",
    "test_time=time()-t0\n",
    "print(\"test time: %0.3fs\" % test_time)\n",
    "\n",
    "score = metrics.accuracy_score(y_test, xgb_tfid_2_y_predict)\n",
    "print(\"accuracy:   %0.3f\" % score)\n",
    "print(\" \")\n",
    "\n",
    "print(\"去除停用词的TfidVectorizer提取的特征学习模型准确率：\", xgb_tfid_2.score(x_tfid_test_svd_scl, y_test))\n",
    "print(\"评估指标:\\n\", classification_report(xgb_tfid_2_y_predict, y_test))\n",
    "\n",
    "results.append(('xgb_tfid_2_rmvstpw',score,train_time,test_time))"
   ]
  },
  {
   "cell_type": "code",
   "execution_count": 81,
   "metadata": {},
   "outputs": [
    {
     "name": "stdout",
     "output_type": "stream",
     "text": [
      "train time: 70.099s\n",
      "test time: 0.036s\n",
      "accuracy:   0.946\n",
      " \n",
      "去除停用词的TfidVectorizer提取的特征学习模型准确率： 0.9457364341085271\n",
      "评估指标:\n",
      "               precision    recall  f1-score   support\n",
      "\n",
      "           0       0.56      0.85      0.68       155\n",
      "           1       0.99      0.95      0.97      2167\n",
      "\n",
      "   micro avg       0.95      0.95      0.95      2322\n",
      "   macro avg       0.78      0.90      0.82      2322\n",
      "weighted avg       0.96      0.95      0.95      2322\n",
      "\n"
     ]
    }
   ],
   "source": [
    "xgb_tfid_3 = xgb.XGBClassifier(max_depth=7, n_estimators=200, colsample_bytree=0.8, \n",
    "                              subsample=0.8, nthread=10, learning_rate=0.1,gamma=0.1,reg_alpha=0.1)\n",
    "\n",
    "t0=time()\n",
    "xgb_tfid_3.fit(x_tfid_train_svd_scl, y_train)\n",
    "train_time=time()-t0\n",
    "print(\"train time: %0.3fs\" % train_time)\n",
    "\n",
    "t0=time()\n",
    "xgb_tfid_3_y_predict = xgb_tfid_3.predict(x_tfid_test_svd_scl)\n",
    "test_time=time()-t0\n",
    "print(\"test time: %0.3fs\" % test_time)\n",
    "\n",
    "score = metrics.accuracy_score(y_test, xgb_tfid_3_y_predict)\n",
    "print(\"accuracy:   %0.3f\" % score)\n",
    "print(\" \")\n",
    "\n",
    "print(\"去除停用词的TfidVectorizer提取的特征学习模型准确率：\", xgb_tfid_3.score(x_tfid_test_svd_scl, y_test))\n",
    "print(\"评估指标:\\n\", classification_report(xgb_tfid_3_y_predict, y_test))\n",
    "\n",
    "results.append(('xgb_tfid_3_rmvstpw',score,train_time,test_time))"
   ]
  },
  {
   "cell_type": "markdown",
   "metadata": {},
   "source": [
    "# lightgbm"
   ]
  },
  {
   "cell_type": "code",
   "execution_count": 84,
   "metadata": {},
   "outputs": [],
   "source": [
    "import lightgbm as lgb"
   ]
  },
  {
   "cell_type": "code",
   "execution_count": 83,
   "metadata": {},
   "outputs": [
    {
     "name": "stdout",
     "output_type": "stream",
     "text": [
      "Looking in indexes: http://pypi.douban.com/simple\n",
      "Collecting lightgbm\n",
      "  Downloading http://pypi.doubanio.com/packages/1f/cb/a8ec24334c35a7d0c87b4e4e056bd2137573c7c1bd81c760b79a2f370254/lightgbm-2.3.1-py2.py3-none-win_amd64.whl (544kB)\n",
      "Requirement already satisfied: scikit-learn in c:\\users\\lenovo\\anaconda3\\lib\\site-packages (from lightgbm) (0.20.1)\n",
      "Requirement already satisfied: scipy in c:\\users\\lenovo\\anaconda3\\lib\\site-packages (from lightgbm) (1.1.0)\n",
      "Requirement already satisfied: numpy in c:\\users\\lenovo\\anaconda3\\lib\\site-packages (from lightgbm) (1.17.3)\n",
      "Installing collected packages: lightgbm\n",
      "Successfully installed lightgbm-2.3.1\n"
     ]
    }
   ],
   "source": [
    "!pip install lightgbm"
   ]
  },
  {
   "cell_type": "code",
   "execution_count": 85,
   "metadata": {},
   "outputs": [
    {
     "name": "stdout",
     "output_type": "stream",
     "text": [
      "train time: 21.823s\n",
      "test time: 0.250s\n",
      "accuracy:   0.943\n",
      " \n",
      "去除停用词的CountVectorizer提取的特征学习模型准确率： 0.9427217915590008\n",
      "评估指标:\n",
      "               precision    recall  f1-score   support\n",
      "\n",
      "           0       0.58      0.80      0.67       172\n",
      "           1       0.98      0.95      0.97      2150\n",
      "\n",
      "   micro avg       0.94      0.94      0.94      2322\n",
      "   macro avg       0.78      0.88      0.82      2322\n",
      "weighted avg       0.95      0.94      0.95      2322\n",
      "\n"
     ]
    }
   ],
   "source": [
    "gbm_count = lgb.sklearn.LGBMClassifier(num_leaves=31,learning_rate=0.1,n_estimators=200,\n",
    "                                       colsample_bytree=0.8,subsample=0.8,reg_lambda =0.001,n_jobs=10,min_child_weight=6)\n",
    "\n",
    "t0=time()\n",
    "gbm_count.fit(x_count_train_svd_scl, y_train)\n",
    "train_time=time()-t0\n",
    "print(\"train time: %0.3fs\" % train_time)\n",
    "\n",
    "t0=time()\n",
    "gbm_count_y_predict = gbm_count.predict(x_count_test_svd_scl)\n",
    "test_time=time()-t0\n",
    "print(\"test time: %0.3fs\" % test_time)\n",
    "\n",
    "score = metrics.accuracy_score(y_test, gbm_count_y_predict)\n",
    "print(\"accuracy:   %0.3f\" % score)\n",
    "print(\" \")\n",
    "\n",
    "print(\"去除停用词的CountVectorizer提取的特征学习模型准确率：\", gbm_count.score(x_count_test_svd_scl, y_test))\n",
    "print(\"评估指标:\\n\", classification_report(gbm_count_y_predict, y_test))\n",
    "\n",
    "results.append(('lgb_count_rmvstpw',score,train_time,test_time))"
   ]
  },
  {
   "cell_type": "code",
   "execution_count": 86,
   "metadata": {},
   "outputs": [
    {
     "name": "stdout",
     "output_type": "stream",
     "text": [
      "train time: 18.013s\n",
      "test time:  0.127s\n",
      "accuracy:   0.948\n",
      " \n",
      "去除停用词的TfidVectorizer提取的特征学习模型准确率： 0.9483204134366925\n",
      "评估指标:\n",
      "               precision    recall  f1-score   support\n",
      "\n",
      "           0       0.59      0.85      0.70       163\n",
      "           1       0.99      0.96      0.97      2159\n",
      "\n",
      "   micro avg       0.95      0.95      0.95      2322\n",
      "   macro avg       0.79      0.90      0.84      2322\n",
      "weighted avg       0.96      0.95      0.95      2322\n",
      "\n"
     ]
    }
   ],
   "source": [
    "gbm_tfid = lgb.sklearn.LGBMClassifier(num_leaves=31,learning_rate=0.1,n_estimators=200,\n",
    "                                       colsample_bytree=0.8,subsample=0.8,reg_lambda =0.001,n_jobs=10,min_child_weight=6)\n",
    "\n",
    "t0=time()\n",
    "gbm_tfid.fit(x_tfid_train_svd_scl, y_train)\n",
    "train_time=time()-t0\n",
    "print(\"train time: %0.3fs\" % train_time)\n",
    "\n",
    "t0=time()\n",
    "gbm_tfid_y_predict = gbm_tfid.predict(x_tfid_test_svd_scl)\n",
    "test_time=time()-t0\n",
    "print(\"test time:  %0.3fs\" % test_time)\n",
    "\n",
    "score = metrics.accuracy_score(y_test, gbm_tfid_y_predict)\n",
    "print(\"accuracy:   %0.3f\" % score)\n",
    "\n",
    "print(\" \")\n",
    "print(\"去除停用词的TfidVectorizer提取的特征学习模型准确率：\", gbm_tfid.score(x_tfid_test_svd_scl, y_test))\n",
    "print(\"评估指标:\\n\", classification_report(gbm_tfid_y_predict, y_test))\n",
    "\n",
    "results.append(('lgb_tfid_rmvstpw',score,train_time,test_time))"
   ]
  },
  {
   "cell_type": "code",
   "execution_count": 87,
   "metadata": {},
   "outputs": [
    {
     "data": {
      "image/png": "[encoded data removed]",
      "text/plain": [
       "<Figure size 864x576 with 1 Axes>"
      ]
     },
     "metadata": {
      "needs_background": "light"
     },
     "output_type": "display_data"
    }
   ],
   "source": [
    "import numpy as np\n",
    "\n",
    "indices = np.arange(len(results))\n",
    "\n",
    "results = [[x[i] for x in results] for i in range(4)]\n",
    "\n",
    "clf_names, score, training_time, test_time = results\n",
    "training_time = np.array(training_time) / np.max(training_time)\n",
    "test_time = np.array(test_time) / np.max(test_time)\n",
    "\n",
    "plt.figure(figsize=(12, 8))\n",
    "plt.title(\"Score\")\n",
    "plt.barh(indices, score, .2, label=\"score\", color='navy')\n",
    "plt.barh(indices + .3, training_time, .2, label=\"training time\",\n",
    "         color='c')\n",
    "plt.barh(indices + .6, test_time, .2, label=\"test time\", color='darkorange')\n",
    "plt.yticks(())\n",
    "plt.legend(loc='best')\n",
    "plt.subplots_adjust(left=.25)\n",
    "plt.subplots_adjust(top=.95)\n",
    "plt.subplots_adjust(bottom=.05)\n",
    "\n",
    "for i, c in zip(indices, clf_names):\n",
    "    plt.text(-.3, i, c)\n",
    "\n",
    "plt.show()"
   ]
  },
  {
   "cell_type": "markdown",
   "metadata": {},
   "source": [
    "# 整体来看对于本例所用的语料库及二分类问题各模型准确率差别不大，相对而言random forest、SVM、XGBoost、lightgbm准确率稍高一点，其中lightgbm相速度提升比较明显，SVM比较慢，KNN准确率相对低，朴素贝叶斯最快，准确率处于中间。"
   ]
  }
 ],
 "metadata": {
  "kernelspec": {
   "display_name": "Python 3",
   "language": "python",
   "name": "python3"
  },
  "language_info": {
   "codemirror_mode": {
    "name": "ipython",
    "version": 3
   },
   "file_extension": ".py",
   "mimetype": "text/x-python",
   "name": "python",
   "nbconvert_exporter": "python",
   "pygments_lexer": "ipython3",
   "version": "3.7.1"
  }
 },
 "nbformat": 4,
 "nbformat_minor": 2
}
