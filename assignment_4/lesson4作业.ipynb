{
 "cells": [
  {
   "cell_type": "markdown",
   "metadata": {},
   "source": [
    "#### In this practical part, you will build a simple digits recognizer to check if the digit in the image is larger than 5. This assignmnet will guide you step by step to finish your first small project in this course ."
   ]
  },
  {
   "cell_type": "markdown",
   "metadata": {},
   "source": [
    "# 1 - Packages  \n",
    "sklearn is a famous package for machine learning.   \n",
    "matplotlib is a common package for vasualization."
   ]
  },
  {
   "cell_type": "code",
   "execution_count": 1,
   "metadata": {},
   "outputs": [],
   "source": [
    "from sklearn import datasets\n",
    "import matplotlib.pyplot as plt\n",
    "from sklearn.model_selection import train_test_split"
   ]
  },
  {
   "cell_type": "markdown",
   "metadata": {},
   "source": [
    "# 2 - Overvie of the dataset  \n",
    "    - a training set has m_train images labeled as 0 if the digit < 5 or 1 if the digit >= 5\n",
    "    - a test set contains m_test images labels as if the digit < 5 or 1 if the digit >= 5\n",
    "    - eah image if of shape (num_px, num_px ). Thus, each image is square(height=num_px and  width = num_px)"
   ]
  },
  {
   "cell_type": "code",
   "execution_count": 2,
   "metadata": {},
   "outputs": [],
   "source": [
    "# Loading the data \n",
    "digits = datasets.load_digits()\n",
    "#digits"
   ]
  },
  {
   "cell_type": "code",
   "execution_count": 3,
   "metadata": {},
   "outputs": [
    {
     "data": {
      "text/plain": [
       "(1797, 64)"
      ]
     },
     "execution_count": 3,
     "metadata": {},
     "output_type": "execute_result"
    }
   ],
   "source": [
    "digits['data'].shape"
   ]
  },
  {
   "cell_type": "code",
   "execution_count": 4,
   "metadata": {},
   "outputs": [
    {
     "data": {
      "text/plain": [
       "(1797,)"
      ]
     },
     "execution_count": 4,
     "metadata": {},
     "output_type": "execute_result"
    }
   ],
   "source": [
    "digits['target'].shape"
   ]
  },
  {
   "cell_type": "code",
   "execution_count": 5,
   "metadata": {},
   "outputs": [
    {
     "data": {
      "image/png": "[encoded data removed]",
      "text/plain": [
       "<Figure size 432x288 with 10 Axes>"
      ]
     },
     "metadata": {},
     "output_type": "display_data"
    }
   ],
   "source": [
    "# Vilizating the data\n",
    "for i in range(1,11):\n",
    "    plt.subplot(2,5,i)\n",
    "    plt.imshow(digits.data[i-1].reshape([8,8]),cmap=plt.cm.gray_r)\n",
    "    plt.text(3,10,str(digits.target[i-1]))\n",
    "    plt.xticks([])\n",
    "    plt.yticks([])\n",
    "plt.show()"
   ]
  },
  {
   "cell_type": "code",
   "execution_count": 65,
   "metadata": {},
   "outputs": [],
   "source": [
    "# Split the data into training set and test set \n",
    "X_train, X_test, y_train, y_test = train_test_split(digits.data, digits.target, test_size=0.25)"
   ]
  },
  {
   "cell_type": "code",
   "execution_count": 66,
   "metadata": {},
   "outputs": [],
   "source": [
    "# reformulate the label. \n",
    "# If the digit is smaller than 5, the label is 0.\n",
    "# If the digit is larger than 5, the label is 1.\n",
    "\n",
    "y_train[y_train < 5 ] = 0\n",
    "y_train[y_train >= 5] = 1\n",
    "y_test[y_test < 5] = 0\n",
    "y_test[y_test >= 5] = 1"
   ]
  },
  {
   "cell_type": "code",
   "execution_count": 67,
   "metadata": {},
   "outputs": [
    {
     "name": "stdout",
     "output_type": "stream",
     "text": [
      "(1347, 64)\n",
      "(450, 64)\n",
      "(1347,)\n",
      "(450,)\n"
     ]
    }
   ],
   "source": [
    "print(X_train.shape)\n",
    "print(X_test.shape)\n",
    "print(y_train.shape)\n",
    "print(y_test.shape)"
   ]
  },
  {
   "cell_type": "markdown",
   "metadata": {},
   "source": [
    "# 3- Architecture of the neural network"
   ]
  },
  {
   "cell_type": "markdown",
   "metadata": {},
   "source": [
    "##### Mathematical expression of the algorithm:"
   ]
  },
  {
   "cell_type": "markdown",
   "metadata": {},
   "source": [
    "For one example $x^{(i)}$:   \n",
    " $$ z^{(i)} = w^T * x^{(i)} +b $$   \n",
    " $$ y^{(i)} = a^{(i)} = sigmoid(z^{(i)})$$   \n",
    " $$L(a^{(i)},y^{(i)}) = -y^{(i)} log(a^{(i)})-(1-y^{(i)})log(1-a^{(i)})$$"
   ]
  },
  {
   "cell_type": "markdown",
   "metadata": {},
   "source": [
    "The total cost over all training examples:\n",
    "$$ J = \\frac{1}{m}\\sum_{i=1}^{m}L(a^{(i)},y^{(i)}) $$"
   ]
  },
  {
   "cell_type": "markdown",
   "metadata": {},
   "source": [
    "#### 4 - Building the algorithm"
   ]
  },
  {
   "cell_type": "markdown",
   "metadata": {},
   "source": [
    "##### 4.1- Activation function    \n",
    "###### Exercise:\n",
    "Finish the sigmoid funciton "
   ]
  },
  {
   "cell_type": "code",
   "execution_count": 9,
   "metadata": {},
   "outputs": [],
   "source": [
    "import numpy as np"
   ]
  },
  {
   "cell_type": "code",
   "execution_count": 10,
   "metadata": {},
   "outputs": [],
   "source": [
    "def sigmoid(z):\n",
    "    '''\n",
    "    Compute the sigmoid of z\n",
    "    Arguments: z -- a scalar or numpy array of any size.\n",
    "    \n",
    "    Return:\n",
    "    s -- sigmoid(z)\n",
    "    '''\n",
    "    \n",
    "    s = 1 / (1 + np.exp(-z))\n",
    "    \n",
    "    return s"
   ]
  },
  {
   "cell_type": "code",
   "execution_count": 11,
   "metadata": {},
   "outputs": [
    {
     "name": "stdout",
     "output_type": "stream",
     "text": [
      "sigmoid([0,2]) = [0.5        0.88079708]\n"
     ]
    }
   ],
   "source": [
    "# Test your code \n",
    "# The result should be [0.5 0.88079708]\n",
    "print(\"sigmoid([0,2]) = \" + str(sigmoid(np.array([0,2]))))"
   ]
  },
  {
   "cell_type": "markdown",
   "metadata": {},
   "source": [
    "##### 4.1-Initializaing parameters\n",
    "###### Exercise:\n",
    "Finishe the initialize_parameters function below"
   ]
  },
  {
   "cell_type": "code",
   "execution_count": 68,
   "metadata": {},
   "outputs": [],
   "source": [
    " #Random innitialize the parameters\n",
    "\n",
    "def initialize_parameters(dim):\n",
    "    '''\n",
    "    Argument: dim -- size of the w vector\n",
    "\n",
    "    Returns:\n",
    "    w -- initialized vector of shape (dim,1)\n",
    "    b -- initializaed scalar\n",
    "    '''\n",
    "    \n",
    "    w = np.ones(shape=(dim,1))\n",
    "    b = 0\n",
    "    \n",
    "    assert(w.shape == (dim,1))\n",
    "    assert(isinstance(b,float) or isinstance(b,int))\n",
    "    \n",
    "    return w,b"
   ]
  },
  {
   "cell_type": "code",
   "execution_count": 13,
   "metadata": {},
   "outputs": [
    {
     "data": {
      "text/plain": [
       "(array([[1.],\n",
       "        [1.],\n",
       "        [1.],\n",
       "        [1.],\n",
       "        [1.],\n",
       "        [1.]]), 0)"
      ]
     },
     "execution_count": 13,
     "metadata": {},
     "output_type": "execute_result"
    }
   ],
   "source": [
    "initialize_parameters(6)"
   ]
  },
  {
   "cell_type": "markdown",
   "metadata": {},
   "source": [
    "#### 4.3-Forward and backward propagation"
   ]
  },
  {
   "cell_type": "markdown",
   "metadata": {},
   "source": [
    "###### Some mathematical expressions\n",
    "Forward Propagation:   \n",
    ". X    \n",
    ". A = $\\sigma(w^T*X+b) = (a^{(1)},a^{(2)},...,a^{(m)})$   \n",
    ". J = $-\\frac{1}{m} \\sum_{i=1}^{m}y^{(i)}log(a^{(i)})+(1-y^{(i)})log(1-a^{(i)})$       "
   ]
  },
  {
   "cell_type": "markdown",
   "metadata": {},
   "source": [
    "Some derivative: \n",
    "$$\\frac{\\partial{J}}{\\partial{w}} = \\frac{1}{m}X^T*(A-Y)^T$$   \n",
    "$$\\frac{\\partial{J}}{\\partial{b}} = \\frac{1}{m}\\sum_{i=1}^m(a^{(i)}-y^{(i)}) $$"
   ]
  },
  {
   "cell_type": "markdown",
   "metadata": {},
   "source": [
    "###### Exercise:\n",
    "Finish the function below:"
   ]
  },
  {
   "cell_type": "code",
   "execution_count": 126,
   "metadata": {},
   "outputs": [],
   "source": [
    "def propagate(w,b,X,Y):\n",
    "    '''\n",
    "    Implement the cost function and its gradient for the propagation\n",
    "    \n",
    "    Arguments:\n",
    "    w - weights\n",
    "    b - bias\n",
    "    X - data\n",
    "    Y - ground truth\n",
    "    '''\n",
    "    #m = X.shape[1]\n",
    "    #A = sigmoid(np.dot(w.T, X)+b)\n",
    "    \n",
    "    m = X.shape[0]\n",
    "    A = sigmoid(np.dot(X, w) + b)\n",
    "    A = A.reshape(1, -1)       #reshape(1, -1)把A变成一行\n",
    "    Y = Y.reshape(1, -1)\n",
    "    \n",
    "    #cost = (- 1 / m) * np.sum(Y * np.log(A) + (1 - Y) * (np.log(1 - A))) \n",
    "    \n",
    "    #dw = (1 / m) * np.dot(X, (A - Y).T)\n",
    "    #db = (1 / m) * np.sum(A - Y)\n",
    "    \n",
    "    cost = -1/m * np.sum(Y * np.log(A + pow(10.0, -9)) + (1-Y) * np.log(1-A + pow(10.0, -9)))  # 为防止A 接近于0或1，导致log(A)或log(1-A) 趋于无穷，\n",
    "                                                                                                       #所以在分母上加上一个很小的正数pow(10.0, -9)\n",
    "    dw = 1/m * np.dot((A-Y), X).T\n",
    "    db = 1/m * np.sum(A-Y)\n",
    "    \n",
    "    \n",
    "    assert(dw.shape == w.shape)         # assert（断言）用于判断一个表达式，在表达式条件为 false 的时候触发异常。\n",
    "    assert(db.dtype == float)\n",
    "    cost = np.squeeze(cost)      #从数组的形状中删除单维度条目，即把shape中为1的维度去掉\n",
    "    assert(cost.shape == ())  # shape是否不存在\n",
    "    \n",
    "    grads = {'dw':dw,\n",
    "             'db':db}\n",
    "    return grads, cost\n"
   ]
  },
  {
   "cell_type": "markdown",
   "metadata": {},
   "source": [
    "##### 4.4 -Optimization"
   ]
  },
  {
   "cell_type": "markdown",
   "metadata": {},
   "source": [
    "###### Exercise:\n",
    "Minimizing the cost function using gradient descent.   \n",
    "$$\\theta = \\theta - \\alpha*d\\theta$$ where $\\alpha$ is the learning rate."
   ]
  },
  {
   "cell_type": "code",
   "execution_count": 70,
   "metadata": {},
   "outputs": [],
   "source": [
    "def optimize(w, b, X, Y, num_iterations, learning_rate, print_cost=False):\n",
    "    '''\n",
    "    This function optimize w and b by running a gradient descen algorithm\n",
    "    \n",
    "    Arguments:\n",
    "    w - weights\n",
    "    b - bias\n",
    "    X - data\n",
    "    Y - ground truth\n",
    "    num_iterations -- number of iterations of the optimization loop\n",
    "    learning_rate -- learning rate of the gradient descent update rule\n",
    "    print_cost -- True to print the loss every 100 steps\n",
    "    \n",
    "    Returns:\n",
    "    params - dictionary containing the weights w and bias b\n",
    "    grads -- dictionary containing the gradients of the weights and bias with respect to the cost function\n",
    "    costs -- list of all the costs computed during the optimization, this will be used to plot the learning curve.\n",
    "    \n",
    "    '''\n",
    "    \n",
    "    costs = []\n",
    "    \n",
    "    for i in range(num_iterations):\n",
    "        \n",
    "        grads, cost = propagate(w,b,X,Y)\n",
    "        \n",
    "        dw = grads['dw']\n",
    "        db = grads['db']\n",
    "        \n",
    "        w = w - learning_rate * dw\n",
    "        b = b - learning_rate * db\n",
    "        \n",
    "        if i % 100 == 0:\n",
    "            costs.append(cost)\n",
    "        if print_cost and i % 100 == 0:\n",
    "            print (\"Cost after iteration %i: %f\" %(i, cost))\n",
    "    \n",
    "    params = {\"w\":w,\n",
    "              \"b\":b}\n",
    "    \n",
    "    grads = {\"dw\":dw,\n",
    "             \"db\":db}\n",
    "    \n",
    "    return params, grads, costs"
   ]
  },
  {
   "cell_type": "markdown",
   "metadata": {},
   "source": [
    "###### Exercise\n",
    "The previous function will output the learned w and b. We are able to use w and b to predict the labels for a dataset X. Implement the predict() function.    \n",
    "Two steps to finish this task:   \n",
    "1. Calculate $\\hat{Y} = A = \\sigma(w^T*X+b)$   \n",
    "2. Convert the entries of a into 0 (if activation <= 0.5) or 1 (if activation > 0.5), stores the predictions in a vector Y_prediction. If you wish, you can use an if/else statement in a for loop (though there is also a way to vectorize this)."
   ]
  },
  {
   "cell_type": "code",
   "execution_count": 71,
   "metadata": {},
   "outputs": [],
   "source": [
    "def predict(w, b, X):\n",
    "    '''\n",
    "    Predict whether the label is 0 or 1 using learned logistic regression parameters (w, b)\n",
    "    \n",
    "    Arguments:\n",
    "    w -- weights\n",
    "    b -- bias \n",
    "    X -- data \n",
    "    \n",
    "    Returns:\n",
    "    Y_prediction -- a numpy array (vector) containing all predictions (0/1) for the examples in X\n",
    "    '''\n",
    "    #m = X.shape[1]\n",
    "    #Y_prediction = np.zeros((1,m))\n",
    "    #w = w.reshape(X.shape[0],1)\n",
    "    \n",
    "    m = X.shape[0]\n",
    "    Y_prediction = np.zeros((1,m))\n",
    "    w = w.reshape(X.shape[1],1)\n",
    "    \n",
    "    \n",
    "    #A = sigmoid(np.dot(w.T, X) + b)\n",
    "    \n",
    "    A = sigmoid(np.dot(X, w) + b)\n",
    "    \n",
    "    # Convert probabilities a[0,i] to actual predictions p[0,i]\n",
    "    #for i in range(A.shape[1]):\n",
    "        #Y_prediction[0, i] = 1 if A[0, i] > 0.5 else 0 \n",
    "        \n",
    "    A[A > 0.5] = 1\n",
    "    A[A <= 0.5] = 0\n",
    "    \n",
    "    Y_prediction = A.reshape(1, -1)\n",
    "    \n",
    "    assert(Y_prediction.shape == (1,m))\n",
    "    \n",
    "    return Y_prediction"
   ]
  },
  {
   "cell_type": "markdown",
   "metadata": {},
   "source": [
    "##### 5- Merge all functions into a model"
   ]
  },
  {
   "cell_type": "markdown",
   "metadata": {},
   "source": [
    "Congratulations !! You have finished all the necessary components for constructing a model. Now, Let's take the challenge to merge all the implemented function into one model."
   ]
  },
  {
   "cell_type": "code",
   "execution_count": 72,
   "metadata": {},
   "outputs": [],
   "source": [
    "def model(X_train, Y_train, X_test, Y_test, num_iterations, learning_rate, print_cost=False):\n",
    "    \"\"\"\n",
    "    Build the logistic regression model by calling all the functions you have implemented.\n",
    "    Arguments:\n",
    "    X_train - training set\n",
    "    Y_train - training label\n",
    "    X_test - test set\n",
    "    Y_test - test label\n",
    "    num_iteration - hyperparameter representing the number of iterations to optimize the parameters\n",
    "    learning_rate -- hyperparameter representing the learning rate used in the update rule of optimize()\n",
    "    print_cost -- Set to true to print the cost every 100 iterations\n",
    "    \n",
    "    Returns:\n",
    "    d - dictionary should contain following information w,b,training_accuracy, test_accuracy,cost\n",
    "    eg: d = {\"w\":w,\n",
    "             \"b\":b,\n",
    "             \"training_accuracy\": traing_accuracy,\n",
    "             \"test_accuracy\":test_accuracy,\n",
    "             \"cost\":cost}\n",
    "    \"\"\"\n",
    "    #w, b = initialize_parameters(X_train.shape[0])\n",
    "    #params, grads, costs = optimize(w, b, X_train, y_train, num_iterations, learning_rate, print_cost)\n",
    "    \n",
    "     # Initial parms\n",
    "    dim = X_train.shape[1]\n",
    "    w, b = initialize_parameters(dim)\n",
    "    \n",
    "    # Training\n",
    "    params, grads, costs = optimize(w, b, X_train, Y_train, num_iterations, learning_rate, print_cost)\n",
    "    w, b = params['w'], params['b']\n",
    "    \n",
    "    #w = params[\"w\"]\n",
    "    #b = params[\"b\"]\n",
    "    \n",
    "    #Y_prediction_test = predict(w, b, X_test)\n",
    "    #Y_prediction_train = predict(w, b, X_train)\n",
    "    \n",
    "    # Accuracy\n",
    "    def acc(y, y_predict):\n",
    "        diff = y - y_predict\n",
    "        correct = diff[diff == 0] # if same, the difference equals 0\n",
    "        return correct.shape[0] / y.shape[0]\n",
    "    train_predict = predict(w, b, X_train)\n",
    "    test_predict = predict(w, b, X_test)\n",
    "    training_accuracy = acc(Y_train, train_predict)\n",
    "    test_accuracy = acc(Y_test, test_predict) \n",
    "        \n",
    "        \n",
    "        \n",
    "    #d = {\"w\" : w, \n",
    "       #  \"b\" : b,\n",
    "       #  \"training_accuracy\": 100 - np.mean(np.abs(Y_prediction_train - y_train)) * 100,\n",
    "       #  \"test_accuracy\":100 - np.mean(np.abs(Y_prediction_test - y_test)) * 100,\n",
    "       #  \"costs\": costs}\n",
    "    \n",
    "    result = {\n",
    "        'w': w,\n",
    "        'b': b,\n",
    "        'training_accuracy': training_accuracy,\n",
    "        'test_accuracy': test_accuracy,\n",
    "        'cost': costs\n",
    "    }\n",
    "    \n",
    "    return result"
   ]
  },
  {
   "cell_type": "code",
   "execution_count": 121,
   "metadata": {},
   "outputs": [
    {
     "name": "stdout",
     "output_type": "stream",
     "text": [
      "Cost after iteration 0: 10.307786\n",
      "Cost after iteration 100: 2.149854\n",
      "Cost after iteration 200: 0.553378\n",
      "Cost after iteration 300: 3.176410\n",
      "Cost after iteration 400: 0.496948\n",
      "Cost after iteration 500: 0.450021\n",
      "Cost after iteration 600: 0.625566\n",
      "Cost after iteration 700: 0.494025\n",
      "Cost after iteration 800: 0.442430\n",
      "Cost after iteration 900: 0.418623\n",
      "Cost after iteration 1000: 2.412186\n",
      "Cost after iteration 1100: 0.452118\n",
      "Cost after iteration 1200: 0.419887\n",
      "Cost after iteration 1300: 0.422639\n",
      "Cost after iteration 1400: 0.807578\n",
      "Cost after iteration 1500: 0.431905\n",
      "Cost after iteration 1600: 0.405220\n",
      "Cost after iteration 1700: 1.088513\n",
      "Cost after iteration 1800: 0.457793\n",
      "Cost after iteration 1900: 0.414193\n"
     ]
    },
    {
     "data": {
      "text/plain": [
       "{'w': array([[ 1.        ],\n",
       "        [ 0.57661321],\n",
       "        [-0.04056217],\n",
       "        [-0.08185471],\n",
       "        [ 0.37874694],\n",
       "        [ 0.23556679],\n",
       "        [ 0.37515644],\n",
       "        [ 0.3378487 ],\n",
       "        [ 1.06567206],\n",
       "        [-0.47039296],\n",
       "        [ 0.32630471],\n",
       "        [ 0.25044988],\n",
       "        [-0.18821365],\n",
       "        [-0.13620437],\n",
       "        [ 0.00616782],\n",
       "        [ 0.21608217],\n",
       "        [ 0.91604427],\n",
       "        [ 0.24312445],\n",
       "        [ 0.41927225],\n",
       "        [ 0.01326065],\n",
       "        [-0.52527613],\n",
       "        [-0.19332854],\n",
       "        [-0.4213113 ],\n",
       "        [ 0.26042316],\n",
       "        [ 0.94762966],\n",
       "        [-0.62247053],\n",
       "        [ 0.06799904],\n",
       "        [ 0.41862861],\n",
       "        [ 0.04020543],\n",
       "        [ 0.52137738],\n",
       "        [-0.48765387],\n",
       "        [ 0.90079267],\n",
       "        [ 1.        ],\n",
       "        [-0.74973642],\n",
       "        [ 0.0457833 ],\n",
       "        [ 0.50590142],\n",
       "        [-0.25631171],\n",
       "        [-0.1697371 ],\n",
       "        [ 0.19589731],\n",
       "        [ 1.        ],\n",
       "        [ 0.96907708],\n",
       "        [-0.04271462],\n",
       "        [ 0.15549503],\n",
       "        [-0.19964517],\n",
       "        [ 0.34810011],\n",
       "        [ 0.18278312],\n",
       "        [ 0.21844266],\n",
       "        [ 1.00721155],\n",
       "        [ 0.92779475],\n",
       "        [-0.21905058],\n",
       "        [ 0.08379019],\n",
       "        [-0.25085278],\n",
       "        [-0.74287826],\n",
       "        [-0.09342143],\n",
       "        [ 0.25278668],\n",
       "        [ 0.34127594],\n",
       "        [ 0.98945667],\n",
       "        [ 0.3149463 ],\n",
       "        [ 0.07321338],\n",
       "        [-0.10299448],\n",
       "        [-0.46406901],\n",
       "        [-0.10185555],\n",
       "        [-0.39753498],\n",
       "        [-0.24539443]]),\n",
       " 'b': -0.17943572815509135,\n",
       " 'training_accuracy': 0.8953229398663697,\n",
       " 'test_accuracy': 0.8933333333333333,\n",
       " 'cost': [10.307786273256939,\n",
       "  2.149853687753675,\n",
       "  0.5533775638039551,\n",
       "  3.176410416408129,\n",
       "  0.4969480193742373,\n",
       "  0.4500214638179574,\n",
       "  0.6255663109617424,\n",
       "  0.49402473641981925,\n",
       "  0.4424298300447168,\n",
       "  0.41862325515888094,\n",
       "  2.412186410403929,\n",
       "  0.4521177932842575,\n",
       "  0.4198871911609658,\n",
       "  0.42263856027353086,\n",
       "  0.8075776191650557,\n",
       "  0.4319045299755706,\n",
       "  0.4052200011472424,\n",
       "  1.088513206076181,\n",
       "  0.45779261208128347,\n",
       "  0.41419324220650244]}"
      ]
     },
     "execution_count": 121,
     "metadata": {},
     "output_type": "execute_result"
    }
   ],
   "source": [
    "model(X_train, y_train, X_test, y_test, num_iterations=2000, learning_rate=0.027, print_cost = True)"
   ]
  },
  {
   "cell_type": "code",
   "execution_count": 122,
   "metadata": {},
   "outputs": [
    {
     "name": "stdout",
     "output_type": "stream",
     "text": [
      "Cost after iteration 0: 10.307786\n",
      "Cost after iteration 100: 1.903098\n",
      "Cost after iteration 200: 1.020255\n",
      "Cost after iteration 300: 0.672823\n",
      "Cost after iteration 400: 0.513754\n",
      "Cost after iteration 500: 0.438843\n",
      "Cost after iteration 600: 0.400175\n",
      "Cost after iteration 700: 0.377251\n",
      "Cost after iteration 800: 0.361694\n",
      "Cost after iteration 900: 0.349945\n",
      "Cost after iteration 1000: 0.340442\n",
      "Cost after iteration 1100: 0.332474\n",
      "Cost after iteration 1200: 0.325680\n",
      "Cost after iteration 1300: 0.319839\n",
      "Cost after iteration 1400: 0.314790\n",
      "Cost after iteration 1500: 0.310401\n",
      "Cost after iteration 1600: 0.306559\n",
      "Cost after iteration 1700: 0.303168\n",
      "Cost after iteration 1800: 0.300149\n",
      "Cost after iteration 1900: 0.297437\n",
      "Cost after iteration 2000: 0.294980\n",
      "Cost after iteration 2100: 0.292735\n",
      "Cost after iteration 2200: 0.290668\n",
      "Cost after iteration 2300: 0.288755\n",
      "Cost after iteration 2400: 0.286972\n",
      "Cost after iteration 2500: 0.285303\n",
      "Cost after iteration 2600: 0.283734\n",
      "Cost after iteration 2700: 0.282254\n",
      "Cost after iteration 2800: 0.280854\n",
      "Cost after iteration 2900: 0.279527\n",
      "Cost after iteration 3000: 0.278266\n",
      "Cost after iteration 3100: 0.277067\n",
      "Cost after iteration 3200: 0.275926\n",
      "Cost after iteration 3300: 0.274838\n",
      "Cost after iteration 3400: 0.273802\n",
      "Cost after iteration 3500: 0.272814\n",
      "Cost after iteration 3600: 0.271873\n",
      "Cost after iteration 3700: 0.270977\n",
      "Cost after iteration 3800: 0.270125\n",
      "Cost after iteration 3900: 0.269314\n",
      "Cost after iteration 4000: 0.268543\n",
      "Cost after iteration 4100: 0.267812\n",
      "Cost after iteration 4200: 0.267199\n",
      "Cost after iteration 4300: 0.292342\n",
      "Cost after iteration 4400: 0.270013\n",
      "Cost after iteration 4500: 0.276554\n",
      "Cost after iteration 4600: 0.272111\n",
      "Cost after iteration 4700: 0.273276\n",
      "Cost after iteration 4800: 0.272161\n",
      "Cost after iteration 4900: 0.272182\n"
     ]
    }
   ],
   "source": [
    "# test on data\n",
    "result = model(X_train, y_train, X_test, y_test, 5000, 1e-2, True)"
   ]
  },
  {
   "cell_type": "code",
   "execution_count": 123,
   "metadata": {},
   "outputs": [
    {
     "data": {
      "text/plain": [
       "{'w': array([[ 1.        ],\n",
       "        [ 0.38695522],\n",
       "        [-0.02712665],\n",
       "        [-0.02144246],\n",
       "        [ 0.13428207],\n",
       "        [ 0.10108807],\n",
       "        [ 0.1344045 ],\n",
       "        [ 0.30377088],\n",
       "        [ 1.04116109],\n",
       "        [-0.22424999],\n",
       "        [ 0.14702575],\n",
       "        [ 0.07037573],\n",
       "        [-0.08031491],\n",
       "        [-0.05797374],\n",
       "        [ 0.02547056],\n",
       "        [ 0.04192524],\n",
       "        [ 0.91996537],\n",
       "        [ 0.10769472],\n",
       "        [ 0.14915031],\n",
       "        [ 0.00592056],\n",
       "        [-0.21469981],\n",
       "        [-0.07658699],\n",
       "        [-0.18328746],\n",
       "        [ 0.13433819],\n",
       "        [ 0.94430718],\n",
       "        [-0.25506869],\n",
       "        [ 0.04645866],\n",
       "        [ 0.15433828],\n",
       "        [ 0.01107361],\n",
       "        [ 0.20684869],\n",
       "        [-0.18721906],\n",
       "        [ 0.88192283],\n",
       "        [ 1.        ],\n",
       "        [-0.29375792],\n",
       "        [ 0.01833299],\n",
       "        [ 0.21346155],\n",
       "        [-0.08170148],\n",
       "        [-0.06088989],\n",
       "        [ 0.07738952],\n",
       "        [ 1.        ],\n",
       "        [ 0.92443895],\n",
       "        [ 0.01390082],\n",
       "        [ 0.0448074 ],\n",
       "        [-0.08087418],\n",
       "        [ 0.11478393],\n",
       "        [ 0.06579711],\n",
       "        [ 0.07188571],\n",
       "        [ 0.99456126],\n",
       "        [ 0.81144062],\n",
       "        [-0.17357547],\n",
       "        [ 0.03569215],\n",
       "        [-0.09129746],\n",
       "        [-0.30671302],\n",
       "        [-0.03992592],\n",
       "        [ 0.08238207],\n",
       "        [ 0.14858269],\n",
       "        [ 0.98454323],\n",
       "        [ 0.14797517],\n",
       "        [ 0.03728205],\n",
       "        [-0.05044137],\n",
       "        [-0.17056478],\n",
       "        [-0.0387391 ],\n",
       "        [-0.12655651],\n",
       "        [-0.18470111]]),\n",
       " 'b': -0.18098361772407284,\n",
       " 'training_accuracy': 0.8975501113585747,\n",
       " 'test_accuracy': 0.8977777777777778,\n",
       " 'cost': [10.307786273256939,\n",
       "  1.903097794624632,\n",
       "  1.0202548255529715,\n",
       "  0.6728229010491168,\n",
       "  0.5137538695162215,\n",
       "  0.438842748944376,\n",
       "  0.40017470091981966,\n",
       "  0.3772511604817602,\n",
       "  0.36169428933258724,\n",
       "  0.34994454378032985,\n",
       "  0.3404415585036682,\n",
       "  0.3324740660944322,\n",
       "  0.3256799304165252,\n",
       "  0.3198389925893959,\n",
       "  0.31479019480211096,\n",
       "  0.3104011630302404,\n",
       "  0.30655903941668167,\n",
       "  0.3031682323407584,\n",
       "  0.3001492675850072,\n",
       "  0.29743720045961747,\n",
       "  0.2949796147459121,\n",
       "  0.2927345277585535,\n",
       "  0.29066843830423295,\n",
       "  0.2887546322876038,\n",
       "  0.2869717759872076,\n",
       "  0.2853027807821955,\n",
       "  0.2837339030056804,\n",
       "  0.2822540375644504,\n",
       "  0.28085416648038164,\n",
       "  0.27952692904311227,\n",
       "  0.2782662864043265,\n",
       "  0.27706725903584106,\n",
       "  0.27592572011648575,\n",
       "  0.27483823156633447,\n",
       "  0.27380191225978634,\n",
       "  0.2728143301349936,\n",
       "  0.27187341170485047,\n",
       "  0.27097736405656414,\n",
       "  0.2701246059361967,\n",
       "  0.2693137059837798,\n",
       "  0.26854332754761995,\n",
       "  0.2678121930178039,\n",
       "  0.26719873060577126,\n",
       "  0.2923421554120919,\n",
       "  0.2700129409155523,\n",
       "  0.27655371836553616,\n",
       "  0.27211088016873375,\n",
       "  0.2732761723278824,\n",
       "  0.27216109175860076,\n",
       "  0.27218221391851194]}"
      ]
     },
     "execution_count": 123,
     "metadata": {},
     "output_type": "execute_result"
    }
   ],
   "source": [
    "result"
   ]
  },
  {
   "cell_type": "code",
   "execution_count": 133,
   "metadata": {},
   "outputs": [
    {
     "data": {
      "text/plain": [
       "[<matplotlib.lines.Line2D at 0x1e1ded30>]"
      ]
     },
     "execution_count": 133,
     "metadata": {},
     "output_type": "execute_result"
    },
    {
     "data": {
      "image/png": "[encoded data removed]",
      "text/plain": [
       "<Figure size 432x288 with 1 Axes>"
      ]
     },
     "metadata": {
      "needs_background": "light"
     },
     "output_type": "display_data"
    }
   ],
   "source": [
    "cos = model(X_train, y_train, X_test, y_test, 5000, 1e-5, False)['cost']\n",
    "plt.plot(range(len(cos)), cos)"
   ]
  },
  {
   "cell_type": "code",
   "execution_count": 144,
   "metadata": {},
   "outputs": [
    {
     "data": {
      "text/plain": [
       "[<matplotlib.lines.Line2D at 0x1e5c6b38>]"
      ]
     },
     "execution_count": 144,
     "metadata": {},
     "output_type": "execute_result"
    },
    {
     "data": {
      "image/png": "[encoded data removed]",
      "text/plain": [
       "<Figure size 432x288 with 1 Axes>"
      ]
     },
     "metadata": {
      "needs_background": "light"
     },
     "output_type": "display_data"
    }
   ],
   "source": [
    "cos = model(X_train, y_train, X_test, y_test, 5000, 0.013, False)['cost']\n",
    "plt.plot(range(len(cos)), cos,color='green')\n",
    "co = model(X_train, y_train, X_test, y_test, 5000, 0.01, False)['cost']\n",
    "plt.plot(range(len(co)), co,color='red')"
   ]
  },
  {
   "cell_type": "code",
   "execution_count": 127,
   "metadata": {},
   "outputs": [
    {
     "data": {
      "image/png": "[encoded data removed]",
      "text/plain": [
       "<Figure size 432x288 with 1 Axes>"
      ]
     },
     "metadata": {
      "needs_background": "light"
     },
     "output_type": "display_data"
    }
   ],
   "source": [
    "lrs = [1e-2, 1e-3, 1e-4, 1e-5, 1e-6]\n",
    "colors = ['red', 'orange', 'blue', 'green', 'black']\n",
    "for lr, c in zip(lrs, colors):\n",
    "    cost = model(X_train, y_train, X_test, y_test, 5000, lr, False)['cost']\n",
    "    plt.plot(range(len(cost)), cost, color=c)"
   ]
  },
  {
   "cell_type": "markdown",
   "metadata": {},
   "source": [
    "lr为1e-5和1e-6 的cost曲线完全重合，学习率太小，cost没有变化，是一条水平直线"
   ]
  },
  {
   "cell_type": "code",
   "execution_count": 135,
   "metadata": {},
   "outputs": [
    {
     "data": {
      "image/png": "[encoded data removed]",
      "text/plain": [
       "<Figure size 432x288 with 1 Axes>"
      ]
     },
     "metadata": {
      "needs_background": "light"
     },
     "output_type": "display_data"
    }
   ],
   "source": [
    "iteration_nums = [100, 500, 1000, 1500, 2000, 3000, 5000]\n",
    "test_acc = []\n",
    "for iteration_num in iteration_nums:\n",
    "    test_acc.append(model(X_train, y_train, X_test, y_test, iteration_num, 1e-3, False)['test_accuracy'])\n",
    "plt.plot(iteration_nums, test_acc);"
   ]
  },
  {
   "cell_type": "markdown",
   "metadata": {},
   "source": [
    "# 4.选做题"
   ]
  },
  {
   "cell_type": "markdown",
   "metadata": {},
   "source": [
    "Congratulations on building your first logistic regression model. It is your time to analyze it further."
   ]
  },
  {
   "cell_type": "code",
   "execution_count": 23,
   "metadata": {},
   "outputs": [
    {
     "name": "stderr",
     "output_type": "stream",
     "text": [
      "C:\\Users\\lenovo\\Anaconda3\\lib\\site-packages\\ipykernel_launcher.py:24: RuntimeWarning: divide by zero encountered in log\n",
      "C:\\Users\\lenovo\\Anaconda3\\lib\\site-packages\\ipykernel_launcher.py:24: RuntimeWarning: invalid value encountered in multiply\n"
     ]
    },
    {
     "name": "stdout",
     "output_type": "stream",
     "text": [
      "Cost after iteration 0: nan\n",
      "Cost after iteration 100: nan\n",
      "Cost after iteration 200: nan\n",
      "Cost after iteration 300: nan\n",
      "Cost after iteration 400: nan\n",
      "Cost after iteration 500: nan\n",
      "Cost after iteration 600: 0.372817\n",
      "Cost after iteration 700: 0.353011\n",
      "Cost after iteration 800: 0.339421\n",
      "Cost after iteration 900: 0.329155\n",
      "Cost after iteration 1000: 0.320933\n",
      "Cost after iteration 1100: 0.314117\n",
      "Cost after iteration 1200: 0.308350\n",
      "Cost after iteration 1300: 0.303408\n",
      "Cost after iteration 1400: 0.299132\n",
      "Cost after iteration 1500: 0.295401\n",
      "Cost after iteration 1600: 0.292117\n",
      "Cost after iteration 1700: 0.289198\n",
      "Cost after iteration 1800: 0.286579\n",
      "Cost after iteration 1900: 0.284206\n",
      "Cost after iteration 2000: 0.282036\n",
      "Cost after iteration 2100: 0.280035\n",
      "Cost after iteration 2200: 0.278177\n",
      "Cost after iteration 2300: 0.276440\n",
      "Cost after iteration 2400: 0.274808\n",
      "Cost after iteration 2500: 0.273268\n",
      "Cost after iteration 2600: 0.271810\n",
      "Cost after iteration 2700: 0.270423\n",
      "Cost after iteration 2800: 0.269103\n",
      "Cost after iteration 2900: 0.267843\n",
      "Cost after iteration 3000: 0.266640\n",
      "Cost after iteration 3100: 0.265488\n",
      "Cost after iteration 3200: 0.264386\n",
      "Cost after iteration 3300: 0.263331\n",
      "Cost after iteration 3400: 0.262321\n",
      "Cost after iteration 3500: 0.261354\n",
      "Cost after iteration 3600: 0.260429\n",
      "Cost after iteration 3700: 0.259544\n",
      "Cost after iteration 3800: 0.258699\n",
      "Cost after iteration 3900: 0.257893\n",
      "Cost after iteration 4000: 0.257123\n",
      "Cost after iteration 4100: 0.256391\n",
      "Cost after iteration 4200: 0.255693\n",
      "Cost after iteration 4300: 0.255030\n",
      "Cost after iteration 4400: 0.254400\n",
      "Cost after iteration 4500: 0.253803\n",
      "Cost after iteration 4600: 0.253236\n",
      "Cost after iteration 4700: 0.252698\n",
      "Cost after iteration 4800: 0.252189\n",
      "Cost after iteration 4900: 0.251707\n"
     ]
    }
   ],
   "source": [
    "# test on data\n",
    "result = model(X_train, y_train, X_test, y_test, 5000, 1e-2, True)"
   ]
  },
  {
   "cell_type": "code",
   "execution_count": 24,
   "metadata": {},
   "outputs": [
    {
     "data": {
      "text/plain": [
       "{'w': array([[ 1.        ],\n",
       "        [ 0.34423602],\n",
       "        [ 0.0732716 ],\n",
       "        [ 0.00638637],\n",
       "        [ 0.09981748],\n",
       "        [ 0.11250117],\n",
       "        [ 0.20988473],\n",
       "        [ 0.30359159],\n",
       "        [ 1.07413485],\n",
       "        [-0.28383285],\n",
       "        [ 0.16574755],\n",
       "        [ 0.05273001],\n",
       "        [-0.03844984],\n",
       "        [-0.04184192],\n",
       "        [-0.0618251 ],\n",
       "        [ 0.16911841],\n",
       "        [ 0.93178081],\n",
       "        [ 0.11649205],\n",
       "        [ 0.1475157 ],\n",
       "        [-0.04163371],\n",
       "        [-0.24523065],\n",
       "        [-0.07023067],\n",
       "        [-0.19390106],\n",
       "        [ 0.24913561],\n",
       "        [ 0.94496747],\n",
       "        [-0.19593674],\n",
       "        [ 0.03707193],\n",
       "        [ 0.1921937 ],\n",
       "        [ 0.0068915 ],\n",
       "        [ 0.22612153],\n",
       "        [-0.23654312],\n",
       "        [ 0.88839207],\n",
       "        [ 1.        ],\n",
       "        [-0.262938  ],\n",
       "        [-0.02211101],\n",
       "        [ 0.22130884],\n",
       "        [-0.09522628],\n",
       "        [-0.06716125],\n",
       "        [ 0.09161677],\n",
       "        [ 1.        ],\n",
       "        [ 0.89877007],\n",
       "        [-0.01168584],\n",
       "        [ 0.0683078 ],\n",
       "        [-0.07025695],\n",
       "        [ 0.1706047 ],\n",
       "        [ 0.1036155 ],\n",
       "        [ 0.11922424],\n",
       "        [ 0.98821234],\n",
       "        [ 0.83940626],\n",
       "        [-0.1140293 ],\n",
       "        [ 0.05049717],\n",
       "        [-0.05591903],\n",
       "        [-0.33598439],\n",
       "        [-0.06688843],\n",
       "        [ 0.08066637],\n",
       "        [ 0.2240928 ],\n",
       "        [ 0.98261366],\n",
       "        [ 0.08694226],\n",
       "        [-0.01513825],\n",
       "        [-0.10436061],\n",
       "        [-0.16332116],\n",
       "        [-0.04346209],\n",
       "        [-0.18037885],\n",
       "        [-0.09336417]]),\n",
       " 'b': -0.19921262330260686,\n",
       " 'training_accuracy': 0.9057164068299925,\n",
       " 'test_accuracy': 0.8977777777777778,\n",
       " 'cost': [nan,\n",
       "  nan,\n",
       "  nan,\n",
       "  nan,\n",
       "  nan,\n",
       "  nan,\n",
       "  0.3728172683957544,\n",
       "  0.35301062361245744,\n",
       "  0.3394213859678457,\n",
       "  0.3291549914797438,\n",
       "  0.3209326889029928,\n",
       "  0.314116953281828,\n",
       "  0.3083502517332077,\n",
       "  0.30340771552463713,\n",
       "  0.2991315650783258,\n",
       "  0.2954006034301535,\n",
       "  0.292116507094667,\n",
       "  0.28919818653599827,\n",
       "  0.2865792452170133,\n",
       "  0.2842060927697746,\n",
       "  0.28203600459969624,\n",
       "  0.28003517497579483,\n",
       "  0.27817693801179105,\n",
       "  0.2764402553882404,\n",
       "  0.2748084886976547,\n",
       "  0.2732684298435938,\n",
       "  0.2718095469269815,\n",
       "  0.2704234021295118,\n",
       "  0.2691032034266642,\n",
       "  0.2678434589484859,\n",
       "  0.26663970942248166,\n",
       "  0.26548831967431047,\n",
       "  0.26438631453424116,\n",
       "  0.2633312478651661,\n",
       "  0.26232109603162934,\n",
       "  0.2613541692039127,\n",
       "  0.26042903562890357,\n",
       "  0.2595444555256086,\n",
       "  0.2586993226272021,\n",
       "  0.25789261256628715,\n",
       "  0.2571233382044075,\n",
       "  0.2563905125468574,\n",
       "  0.2556931200060941,\n",
       "  0.255030096509401,\n",
       "  0.2544003184056774,\n",
       "  0.25380259948566747,\n",
       "  0.2532356948638117,\n",
       "  0.25269831010116056,\n",
       "  0.2521891138239677,\n",
       "  0.2517067521883046]}"
      ]
     },
     "execution_count": 24,
     "metadata": {},
     "output_type": "execute_result"
    }
   ],
   "source": [
    "result"
   ]
  },
  {
   "cell_type": "markdown",
   "metadata": {},
   "source": [
    "##### 4.1 Observe the effect of learning rate on the leraning process.   \n",
    "Hits: plot the learning curve with different learning rate"
   ]
  },
  {
   "cell_type": "code",
   "execution_count": 25,
   "metadata": {},
   "outputs": [
    {
     "name": "stderr",
     "output_type": "stream",
     "text": [
      "C:\\Users\\lenovo\\Anaconda3\\lib\\site-packages\\ipykernel_launcher.py:24: RuntimeWarning: divide by zero encountered in log\n",
      "C:\\Users\\lenovo\\Anaconda3\\lib\\site-packages\\ipykernel_launcher.py:24: RuntimeWarning: invalid value encountered in multiply\n"
     ]
    },
    {
     "data": {
      "image/png": "[encoded data removed]",
      "text/plain": [
       "<Figure size 432x288 with 1 Axes>"
      ]
     },
     "metadata": {
      "needs_background": "light"
     },
     "output_type": "display_data"
    }
   ],
   "source": [
    "lrs = [1e-2, 1e-3, 1e-4, 1e-5, 1e-6]\n",
    "colors = ['red', 'orange', 'blue', 'green', 'black']\n",
    "for lr, c in zip(lrs, colors):\n",
    "    cost = model(X_train, y_train, X_test, y_test, 5000, lr, False)['cost']\n",
    "    plt.plot(range(len(cost)), cost, color=c)"
   ]
  },
  {
   "cell_type": "markdown",
   "metadata": {},
   "source": [
    "##### 4.2 Observe the effect of iteration_num on the test accuracy."
   ]
  },
  {
   "cell_type": "code",
   "execution_count": 26,
   "metadata": {},
   "outputs": [
    {
     "name": "stderr",
     "output_type": "stream",
     "text": [
      "C:\\Users\\lenovo\\Anaconda3\\lib\\site-packages\\ipykernel_launcher.py:24: RuntimeWarning: divide by zero encountered in log\n",
      "C:\\Users\\lenovo\\Anaconda3\\lib\\site-packages\\ipykernel_launcher.py:24: RuntimeWarning: invalid value encountered in multiply\n"
     ]
    },
    {
     "data": {
      "image/png": "[encoded data removed]",
      "text/plain": [
       "<Figure size 432x288 with 1 Axes>"
      ]
     },
     "metadata": {
      "needs_background": "light"
     },
     "output_type": "display_data"
    }
   ],
   "source": [
    "iteration_nums = [100, 500, 1000, 1500, 2000, 3000, 5000]\n",
    "test_acc = []\n",
    "for iteration_num in iteration_nums:\n",
    "    test_acc.append(model(X_train, y_train, X_test, y_test, iteration_num, 1e-3, False)['test_accuracy'])\n",
    "plt.plot(iteration_nums, test_acc);"
   ]
  },
  {
   "cell_type": "markdown",
   "metadata": {},
   "source": [
    "# Challenge ! ! !\n",
    "\n",
    "The original data have images labeled 0,1,2,3,4,5,6,7,8,9. In our logistic model, we only detect if the digit in the image is larger or smaller than 5. Now, Let's go for a more challenging problem. Try to use softmax function to build a model to recognize which digits (0,1,2,3,4,5,6,7,8,9) is in the image."
   ]
  },
  {
   "cell_type": "code",
   "execution_count": 27,
   "metadata": {},
   "outputs": [],
   "source": [
    "#change the activate function into softmax"
   ]
  },
  {
   "cell_type": "markdown",
   "metadata": {},
   "source": [
    "### Keras"
   ]
  },
  {
   "cell_type": "code",
   "execution_count": 28,
   "metadata": {},
   "outputs": [
    {
     "name": "stderr",
     "output_type": "stream",
     "text": [
      "Using TensorFlow backend.\n"
     ]
    }
   ],
   "source": [
    "from keras.layers import Dense\n",
    "from keras.models import Sequential"
   ]
  },
  {
   "cell_type": "code",
   "execution_count": 29,
   "metadata": {},
   "outputs": [],
   "source": [
    "model = Sequential()\n",
    "# model.add(Dense(32, activation='sigmoid', input_dim=64))\n",
    "# model.add(Dense(10, activation='softmax', input_dim=32))\n",
    "\n",
    "model.add(Dense(10, activation='softmax', input_dim=64))"
   ]
  },
  {
   "cell_type": "code",
   "execution_count": 30,
   "metadata": {},
   "outputs": [],
   "source": [
    "model.compile(optimizer='sgd', loss='sparse_categorical_crossentropy', metrics=['accuracy'])"
   ]
  },
  {
   "cell_type": "code",
   "execution_count": 33,
   "metadata": {},
   "outputs": [],
   "source": [
    "X_train, X_test, Y_train, Y_test = train_test_split(digits.data, digits.target,\n",
    "                                                    test_size=0.25)"
   ]
  },
  {
   "cell_type": "code",
   "execution_count": 34,
   "metadata": {},
   "outputs": [
    {
     "name": "stdout",
     "output_type": "stream",
     "text": [
      "Epoch 1/100\n",
      "1347/1347 [==============================] - 4s 3ms/step - loss: 3.2328 - accuracy: 0.4892 \n",
      "Epoch 2/100\n",
      "1347/1347 [==============================] - 0s 80us/step - loss: 0.6944 - accuracy: 0.8114\n",
      "Epoch 3/100\n",
      "1347/1347 [==============================] - 0s 102us/step - loss: 0.4574 - accuracy: 0.8745\n",
      "Epoch 4/100\n",
      "1347/1347 [==============================] - 0s 93us/step - loss: 0.2911 - accuracy: 0.9087\n",
      "Epoch 5/100\n",
      "1347/1347 [==============================] - 0s 105us/step - loss: 0.2341 - accuracy: 0.9228\n",
      "Epoch 6/100\n",
      "1347/1347 [==============================] - 0s 94us/step - loss: 0.2079 - accuracy: 0.9406\n",
      "Epoch 7/100\n",
      "1347/1347 [==============================] - 0s 35us/step - loss: 0.1754 - accuracy: 0.9465\n",
      "Epoch 8/100\n",
      "1347/1347 [==============================] - 0s 35us/step - loss: 0.1618 - accuracy: 0.9451\n",
      "Epoch 9/100\n",
      "1347/1347 [==============================] - 0s 55us/step - loss: 0.1408 - accuracy: 0.9517\n",
      "Epoch 10/100\n",
      "1347/1347 [==============================] - 0s 49us/step - loss: 0.1334 - accuracy: 0.9569\n",
      "Epoch 11/100\n",
      "1347/1347 [==============================] - 0s 47us/step - loss: 0.1198 - accuracy: 0.9599\n",
      "Epoch 12/100\n",
      "1347/1347 [==============================] - 0s 75us/step - loss: 0.1092 - accuracy: 0.9644\n",
      "Epoch 13/100\n",
      "1347/1347 [==============================] - 0s 111us/step - loss: 0.1036 - accuracy: 0.9666\n",
      "Epoch 14/100\n",
      "1347/1347 [==============================] - 0s 80us/step - loss: 0.1021 - accuracy: 0.9659\n",
      "Epoch 15/100\n",
      "1347/1347 [==============================] - 0s 40us/step - loss: 0.0985 - accuracy: 0.9703\n",
      "Epoch 16/100\n",
      "1347/1347 [==============================] - 0s 67us/step - loss: 0.0874 - accuracy: 0.9718\n",
      "Epoch 17/100\n",
      "1347/1347 [==============================] - 0s 100us/step - loss: 0.0812 - accuracy: 0.9718\n",
      "Epoch 18/100\n",
      "1347/1347 [==============================] - 0s 91us/step - loss: 0.0775 - accuracy: 0.9770\n",
      "Epoch 19/100\n",
      "1347/1347 [==============================] - 0s 48us/step - loss: 0.0702 - accuracy: 0.9777\n",
      "Epoch 20/100\n",
      "1347/1347 [==============================] - 0s 45us/step - loss: 0.0777 - accuracy: 0.9777\n",
      "Epoch 21/100\n",
      "1347/1347 [==============================] - 0s 35us/step - loss: 0.0677 - accuracy: 0.9837\n",
      "Epoch 22/100\n",
      "1347/1347 [==============================] - 0s 55us/step - loss: 0.0665 - accuracy: 0.9785\n",
      "Epoch 23/100\n",
      "1347/1347 [==============================] - 0s 57us/step - loss: 0.0607 - accuracy: 0.9844\n",
      "Epoch 24/100\n",
      "1347/1347 [==============================] - 0s 93us/step - loss: 0.0577 - accuracy: 0.9881\n",
      "Epoch 25/100\n",
      "1347/1347 [==============================] - 0s 87us/step - loss: 0.1097 - accuracy: 0.9733\n",
      "Epoch 26/100\n",
      "1347/1347 [==============================] - 0s 50us/step - loss: 0.0570 - accuracy: 0.9837\n",
      "Epoch 27/100\n",
      "1347/1347 [==============================] - 0s 47us/step - loss: 0.0670 - accuracy: 0.9844\n",
      "Epoch 28/100\n",
      "1347/1347 [==============================] - 0s 48us/step - loss: 0.0516 - accuracy: 0.9881\n",
      "Epoch 29/100\n",
      "1347/1347 [==============================] - 0s 50us/step - loss: 0.0477 - accuracy: 0.9881\n",
      "Epoch 30/100\n",
      "1347/1347 [==============================] - 0s 47us/step - loss: 0.0515 - accuracy: 0.9874\n",
      "Epoch 31/100\n",
      "1347/1347 [==============================] - 0s 46us/step - loss: 0.0488 - accuracy: 0.9866\n",
      "Epoch 32/100\n",
      "1347/1347 [==============================] - 0s 42us/step - loss: 0.0506 - accuracy: 0.9866\n",
      "Epoch 33/100\n",
      "1347/1347 [==============================] - 0s 38us/step - loss: 0.0557 - accuracy: 0.9866\n",
      "Epoch 34/100\n",
      "1347/1347 [==============================] - 0s 53us/step - loss: 0.0415 - accuracy: 0.9948\n",
      "Epoch 35/100\n",
      "1347/1347 [==============================] - 0s 40us/step - loss: 0.0407 - accuracy: 0.9918\n",
      "Epoch 36/100\n",
      "1347/1347 [==============================] - 0s 35us/step - loss: 0.0404 - accuracy: 0.9926\n",
      "Epoch 37/100\n",
      "1347/1347 [==============================] - 0s 47us/step - loss: 0.0381 - accuracy: 0.9918\n",
      "Epoch 38/100\n",
      "1347/1347 [==============================] - 0s 31us/step - loss: 0.0812 - accuracy: 0.9792\n",
      "Epoch 39/100\n",
      "1347/1347 [==============================] - 0s 35us/step - loss: 0.0399 - accuracy: 0.9903\n",
      "Epoch 40/100\n",
      "1347/1347 [==============================] - 0s 46us/step - loss: 0.0364 - accuracy: 0.9941\n",
      "Epoch 41/100\n",
      "1347/1347 [==============================] - 0s 56us/step - loss: 0.0357 - accuracy: 0.9933\n",
      "Epoch 42/100\n",
      "1347/1347 [==============================] - 0s 39us/step - loss: 0.0339 - accuracy: 0.9948\n",
      "Epoch 43/100\n",
      "1347/1347 [==============================] - 0s 61us/step - loss: 0.0336 - accuracy: 0.9963\n",
      "Epoch 44/100\n",
      "1347/1347 [==============================] - 0s 63us/step - loss: 0.0352 - accuracy: 0.9948\n",
      "Epoch 45/100\n",
      "1347/1347 [==============================] - 0s 62us/step - loss: 0.0336 - accuracy: 0.9963\n",
      "Epoch 46/100\n",
      "1347/1347 [==============================] - 0s 54us/step - loss: 0.0315 - accuracy: 0.9948\n",
      "Epoch 47/100\n",
      "1347/1347 [==============================] - 0s 56us/step - loss: 0.0305 - accuracy: 0.9963\n",
      "Epoch 48/100\n",
      "1347/1347 [==============================] - 0s 48us/step - loss: 0.0316 - accuracy: 0.9948\n",
      "Epoch 49/100\n",
      "1347/1347 [==============================] - 0s 37us/step - loss: 0.0283 - accuracy: 0.9948\n",
      "Epoch 50/100\n",
      "1347/1347 [==============================] - 0s 49us/step - loss: 0.0304 - accuracy: 0.9963\n",
      "Epoch 51/100\n",
      "1347/1347 [==============================] - 0s 35us/step - loss: 0.0276 - accuracy: 0.9963\n",
      "Epoch 52/100\n",
      "1347/1347 [==============================] - 0s 46us/step - loss: 0.0276 - accuracy: 0.9978\n",
      "Epoch 53/100\n",
      "1347/1347 [==============================] - 0s 49us/step - loss: 0.0273 - accuracy: 0.9978\n",
      "Epoch 54/100\n",
      "1347/1347 [==============================] - 0s 46us/step - loss: 0.0265 - accuracy: 0.9970\n",
      "Epoch 55/100\n",
      "1347/1347 [==============================] - 0s 60us/step - loss: 0.0264 - accuracy: 0.9970\n",
      "Epoch 56/100\n",
      "1347/1347 [==============================] - 0s 50us/step - loss: 0.0253 - accuracy: 0.9970\n",
      "Epoch 57/100\n",
      "1347/1347 [==============================] - 0s 48us/step - loss: 0.0253 - accuracy: 0.9978\n",
      "Epoch 58/100\n",
      "1347/1347 [==============================] - 0s 30us/step - loss: 0.0244 - accuracy: 0.9963\n",
      "Epoch 59/100\n",
      "1347/1347 [==============================] - 0s 35us/step - loss: 0.0253 - accuracy: 0.9963\n",
      "Epoch 60/100\n",
      "1347/1347 [==============================] - 0s 35us/step - loss: 0.0246 - accuracy: 0.9978\n",
      "Epoch 61/100\n",
      "1347/1347 [==============================] - 0s 46us/step - loss: 0.0241 - accuracy: 0.9978\n",
      "Epoch 62/100\n",
      "1347/1347 [==============================] - 0s 46us/step - loss: 0.0243 - accuracy: 0.9978\n",
      "Epoch 63/100\n",
      "1347/1347 [==============================] - 0s 53us/step - loss: 0.0239 - accuracy: 0.9970\n",
      "Epoch 64/100\n",
      "1347/1347 [==============================] - 0s 46us/step - loss: 0.0231 - accuracy: 0.9970\n",
      "Epoch 65/100\n",
      "1347/1347 [==============================] - 0s 46us/step - loss: 0.0227 - accuracy: 0.9970\n",
      "Epoch 66/100\n",
      "1347/1347 [==============================] - 0s 58us/step - loss: 0.0225 - accuracy: 0.9985\n",
      "Epoch 67/100\n",
      "1347/1347 [==============================] - 0s 37us/step - loss: 0.0222 - accuracy: 0.9978\n",
      "Epoch 68/100\n",
      "1347/1347 [==============================] - 0s 57us/step - loss: 0.0229 - accuracy: 0.9978\n",
      "Epoch 69/100\n",
      "1347/1347 [==============================] - 0s 37us/step - loss: 0.0220 - accuracy: 0.9978\n",
      "Epoch 70/100\n",
      "1347/1347 [==============================] - 0s 46us/step - loss: 0.0207 - accuracy: 0.9985\n",
      "Epoch 71/100\n",
      "1347/1347 [==============================] - 0s 47us/step - loss: 0.0203 - accuracy: 0.9985\n",
      "Epoch 72/100\n",
      "1347/1347 [==============================] - 0s 46us/step - loss: 0.0205 - accuracy: 0.9978\n",
      "Epoch 73/100\n",
      "1347/1347 [==============================] - 0s 62us/step - loss: 0.0200 - accuracy: 0.9993\n",
      "Epoch 74/100\n",
      "1347/1347 [==============================] - 0s 52us/step - loss: 0.0217 - accuracy: 0.9978\n",
      "Epoch 75/100\n",
      "1347/1347 [==============================] - 0s 56us/step - loss: 0.0205 - accuracy: 0.9985\n",
      "Epoch 76/100\n",
      "1347/1347 [==============================] - 0s 62us/step - loss: 0.0194 - accuracy: 0.9993\n",
      "Epoch 77/100\n",
      "1347/1347 [==============================] - 0s 61us/step - loss: 0.0190 - accuracy: 0.9978\n",
      "Epoch 78/100\n",
      "1347/1347 [==============================] - 0s 77us/step - loss: 0.0190 - accuracy: 0.9985\n",
      "Epoch 79/100\n"
     ]
    },
    {
     "name": "stdout",
     "output_type": "stream",
     "text": [
      "1347/1347 [==============================] - 0s 143us/step - loss: 0.0193 - accuracy: 0.9978\n",
      "Epoch 80/100\n",
      "1347/1347 [==============================] - 0s 76us/step - loss: 0.0194 - accuracy: 0.9985\n",
      "Epoch 81/100\n",
      "1347/1347 [==============================] - 0s 59us/step - loss: 0.0188 - accuracy: 0.9985\n",
      "Epoch 82/100\n",
      "1347/1347 [==============================] - 0s 54us/step - loss: 0.0183 - accuracy: 0.9993\n",
      "Epoch 83/100\n",
      "1347/1347 [==============================] - 0s 53us/step - loss: 0.0204 - accuracy: 0.9963\n",
      "Epoch 84/100\n",
      "1347/1347 [==============================] - 0s 53us/step - loss: 0.0177 - accuracy: 0.9993\n",
      "Epoch 85/100\n",
      "1347/1347 [==============================] - 0s 57us/step - loss: 0.0180 - accuracy: 0.9985\n",
      "Epoch 86/100\n",
      "1347/1347 [==============================] - 0s 53us/step - loss: 0.0173 - accuracy: 0.9970\n",
      "Epoch 87/100\n",
      "1347/1347 [==============================] - 0s 57us/step - loss: 0.0180 - accuracy: 0.9985\n",
      "Epoch 88/100\n",
      "1347/1347 [==============================] - 0s 55us/step - loss: 0.0177 - accuracy: 0.9985\n",
      "Epoch 89/100\n",
      "1347/1347 [==============================] - 0s 56us/step - loss: 0.0174 - accuracy: 0.9985\n",
      "Epoch 90/100\n",
      "1347/1347 [==============================] - 0s 54us/step - loss: 0.0168 - accuracy: 0.9993\n",
      "Epoch 91/100\n",
      "1347/1347 [==============================] - 0s 99us/step - loss: 0.0172 - accuracy: 0.9985\n",
      "Epoch 92/100\n",
      "1347/1347 [==============================] - 0s 99us/step - loss: 0.0167 - accuracy: 0.9985\n",
      "Epoch 93/100\n",
      "1347/1347 [==============================] - 0s 68us/step - loss: 0.0169 - accuracy: 0.9993\n",
      "Epoch 94/100\n",
      "1347/1347 [==============================] - 0s 52us/step - loss: 0.0164 - accuracy: 0.9993\n",
      "Epoch 95/100\n",
      "1347/1347 [==============================] - 0s 51us/step - loss: 0.0181 - accuracy: 0.9985\n",
      "Epoch 96/100\n",
      "1347/1347 [==============================] - 0s 59us/step - loss: 0.0166 - accuracy: 0.9985\n",
      "Epoch 97/100\n",
      "1347/1347 [==============================] - 0s 53us/step - loss: 0.0157 - accuracy: 0.9993\n",
      "Epoch 98/100\n",
      "1347/1347 [==============================] - 0s 56us/step - loss: 0.0155 - accuracy: 0.9993\n",
      "Epoch 99/100\n",
      "1347/1347 [==============================] - 0s 58us/step - loss: 0.0162 - accuracy: 0.9985\n",
      "Epoch 100/100\n",
      "1347/1347 [==============================] - 0s 53us/step - loss: 0.0151 - accuracy: 0.9993\n"
     ]
    },
    {
     "data": {
      "text/plain": [
       "<keras.callbacks.callbacks.History at 0x1a41e518>"
      ]
     },
     "execution_count": 34,
     "metadata": {},
     "output_type": "execute_result"
    }
   ],
   "source": [
    "model.fit(X_train, Y_train, batch_size=32, epochs=100)"
   ]
  },
  {
   "cell_type": "code",
   "execution_count": 35,
   "metadata": {},
   "outputs": [
    {
     "name": "stdout",
     "output_type": "stream",
     "text": [
      "450/450 [==============================] - 0s 75us/step\n"
     ]
    },
    {
     "data": {
      "text/plain": [
       "[0.19705839037895204, 0.948888897895813]"
      ]
     },
     "execution_count": 35,
     "metadata": {},
     "output_type": "execute_result"
    }
   ],
   "source": [
    "model.evaluate(X_test, Y_test)"
   ]
  },
  {
   "cell_type": "code",
   "execution_count": 36,
   "metadata": {},
   "outputs": [
    {
     "data": {
      "text/plain": [
       "True"
      ]
     },
     "execution_count": 36,
     "metadata": {},
     "output_type": "execute_result"
    }
   ],
   "source": [
    "model.predict_classes(np.array([X_test[2]]))[0] == Y_test[2]"
   ]
  },
  {
   "cell_type": "code",
   "execution_count": 37,
   "metadata": {},
   "outputs": [
    {
     "data": {
      "text/plain": [
       "array([6, 9, 8, 3, 8, 8, 5, 9, 7, 5, 1, 2, 0, 8, 0, 9, 7, 1, 0, 8, 0, 8,\n",
       "       3, 4, 5, 3, 8, 1, 3, 3, 5, 2, 9, 7, 3, 3, 3, 4, 6, 7, 2, 2, 2, 3,\n",
       "       8, 7, 8, 4, 9, 1, 1, 9, 5, 0, 1, 2, 0, 3, 5, 3, 1, 9, 0, 8, 3, 1,\n",
       "       9, 1, 0, 1, 8, 3, 5, 0, 4, 7, 9, 6, 3, 4, 0, 4, 6, 7, 2, 1, 1, 9,\n",
       "       4, 6, 9, 4, 0, 6, 0, 5, 1, 3, 7, 6, 3, 3, 1, 5, 7, 1, 6, 0, 2, 8,\n",
       "       6, 7, 9, 0, 2, 3, 0, 3, 4, 0, 5, 7, 4, 4, 3, 6, 5, 6, 9, 7, 3, 4,\n",
       "       7, 9, 3, 4, 4, 2, 1, 5, 0, 2, 0, 7, 7, 6, 2, 3, 7, 9, 9, 8, 2, 5,\n",
       "       7, 4, 7, 5, 3, 9, 2, 6, 7, 2, 6, 7, 5, 8, 2, 0, 6, 3, 1, 0, 9, 3,\n",
       "       8, 6, 9, 3, 1, 3, 2, 6, 6, 2, 7, 0, 6, 7, 2, 5, 8, 7, 0, 7, 3, 7,\n",
       "       2, 9, 0, 4, 3, 1, 6, 1, 3, 6, 4, 6, 7, 2, 0, 5, 7, 2, 8, 1, 1, 8,\n",
       "       2, 9, 6, 8, 5, 4, 5, 9, 5, 3, 4, 4, 5, 7, 9, 5, 5, 1, 8, 1, 0, 8,\n",
       "       7, 6, 5, 5, 3, 5, 1, 2, 6, 7, 5, 4, 0, 2, 1, 8, 4, 8, 1, 6, 7, 9,\n",
       "       5, 0, 1, 3, 3, 0, 4, 2, 6, 9, 2, 4, 0, 5, 8, 0, 6, 6, 3, 8, 3, 8,\n",
       "       7, 7, 2, 7, 1, 0, 4, 6, 6, 4, 9, 6, 6, 7, 9, 9, 9, 1, 1, 0, 9, 0,\n",
       "       6, 5, 9, 7, 4, 6, 9, 7, 9, 7, 2, 8, 2, 0, 9, 8, 6, 6, 0, 0, 1, 9,\n",
       "       4, 5, 1, 2, 1, 4, 9, 1, 7, 0, 7, 9, 6, 1, 1, 0, 5, 0, 5, 8, 8, 8,\n",
       "       2, 0, 9, 2, 4, 7, 8, 2, 5, 6, 0, 4, 1, 1, 7, 3, 5, 9, 1, 4, 4, 0,\n",
       "       6, 9, 9, 1, 3, 0, 9, 5, 4, 0, 1, 5, 6, 2, 0, 1, 9, 5, 4, 6, 7, 7,\n",
       "       6, 9, 0, 1, 2, 6, 2, 5, 0, 5, 5, 0, 8, 5, 6, 2, 5, 7, 1, 7, 8, 8,\n",
       "       6, 9, 4, 5, 1, 0, 6, 7, 1, 6, 5, 5, 3, 5, 3, 4, 7, 3, 9, 1, 4, 9,\n",
       "       1, 6, 1, 4, 6, 2, 9, 4, 3, 5], dtype=int64)"
      ]
     },
     "execution_count": 37,
     "metadata": {},
     "output_type": "execute_result"
    }
   ],
   "source": [
    "model.predict_classes(X_test)"
   ]
  },
  {
   "cell_type": "code",
   "execution_count": 38,
   "metadata": {},
   "outputs": [
    {
     "data": {
      "text/plain": [
       "array([6, 9, 8, 3, 8, 8, 5, 9, 7, 5, 1, 2, 0, 8, 0, 9, 7, 1, 0, 8, 0, 8,\n",
       "       3, 4, 5, 3, 8, 1, 3, 3, 5, 2, 9, 7, 3, 3, 3, 4, 6, 7, 2, 2, 2, 3,\n",
       "       8, 7, 8, 4, 9, 1, 1, 9, 3, 0, 1, 2, 0, 3, 5, 3, 1, 9, 0, 8, 3, 1,\n",
       "       5, 1, 0, 1, 8, 3, 9, 0, 4, 7, 3, 6, 3, 4, 0, 4, 6, 7, 2, 1, 1, 9,\n",
       "       4, 6, 3, 4, 0, 6, 0, 5, 1, 3, 7, 6, 3, 3, 1, 5, 7, 1, 6, 0, 2, 8,\n",
       "       6, 7, 9, 0, 2, 3, 0, 3, 4, 0, 5, 7, 4, 4, 3, 6, 5, 6, 9, 7, 3, 4,\n",
       "       5, 9, 3, 4, 4, 2, 1, 5, 0, 2, 0, 7, 7, 6, 2, 3, 7, 7, 9, 8, 1, 5,\n",
       "       7, 4, 7, 5, 3, 9, 2, 6, 7, 2, 6, 7, 5, 8, 2, 0, 6, 3, 1, 9, 5, 3,\n",
       "       8, 6, 9, 3, 1, 8, 2, 6, 6, 2, 7, 0, 6, 7, 2, 5, 8, 7, 0, 7, 3, 7,\n",
       "       2, 9, 0, 4, 3, 1, 6, 1, 3, 6, 4, 6, 7, 2, 0, 5, 7, 2, 8, 1, 1, 8,\n",
       "       2, 9, 6, 8, 5, 9, 5, 5, 5, 3, 4, 4, 5, 7, 9, 5, 5, 1, 8, 1, 0, 8,\n",
       "       7, 6, 3, 5, 3, 5, 1, 2, 6, 7, 5, 4, 0, 2, 1, 8, 4, 8, 1, 6, 7, 9,\n",
       "       5, 0, 1, 3, 3, 0, 4, 2, 6, 9, 2, 4, 0, 5, 8, 0, 6, 6, 3, 8, 3, 8,\n",
       "       7, 7, 2, 7, 1, 0, 4, 6, 6, 4, 9, 6, 6, 7, 9, 9, 9, 1, 1, 0, 9, 0,\n",
       "       5, 8, 9, 7, 4, 6, 9, 7, 9, 7, 2, 8, 2, 0, 1, 8, 0, 6, 0, 0, 1, 9,\n",
       "       4, 5, 1, 2, 1, 4, 9, 1, 7, 0, 7, 9, 6, 1, 1, 0, 5, 0, 5, 8, 3, 8,\n",
       "       2, 0, 9, 2, 4, 7, 8, 2, 5, 6, 0, 4, 1, 1, 7, 3, 5, 9, 1, 4, 4, 0,\n",
       "       0, 9, 9, 1, 3, 6, 9, 5, 4, 0, 1, 5, 6, 2, 0, 1, 7, 5, 4, 6, 7, 7,\n",
       "       6, 8, 0, 1, 2, 6, 2, 5, 0, 5, 5, 0, 8, 5, 6, 2, 5, 7, 1, 7, 8, 8,\n",
       "       6, 9, 4, 5, 1, 0, 6, 7, 1, 6, 5, 5, 3, 5, 3, 4, 7, 3, 9, 1, 4, 9,\n",
       "       1, 6, 1, 4, 6, 2, 9, 4, 3, 5])"
      ]
     },
     "execution_count": 38,
     "metadata": {},
     "output_type": "execute_result"
    }
   ],
   "source": [
    "Y_test"
   ]
  },
  {
   "cell_type": "markdown",
   "metadata": {},
   "source": [
    "#### 以下是手动实现："
   ]
  },
  {
   "cell_type": "markdown",
   "metadata": {},
   "source": [
    "> 1.用softmax代替sigmoid为激活函数\n",
    " 2. 把y = i 转化为 y[i] = 1, 其他为0 (如y=2 -> y=[0, 0, 1, 0, 0, 0, 0, 0, 0, 0])\n",
    " 3. w.shape = [dim of X, 10]\n",
    " 4. 导数计算:\n",
    "     - softmax\n"
   ]
  },
  {
   "cell_type": "code",
   "execution_count": 64,
   "metadata": {},
   "outputs": [],
   "source": [
    "X_train, X_test, y_train, y_test = train_test_split(digits.data, digits.target, test_size=0.25)"
   ]
  },
  {
   "cell_type": "code",
   "execution_count": 40,
   "metadata": {},
   "outputs": [],
   "source": [
    "def transfer(y):\n",
    "    after = []\n",
    "    for e in y:\n",
    "        new = [0] * 10\n",
    "        new[e] = 1\n",
    "        after.append(new)\n",
    "    return np.array(after)"
   ]
  },
  {
   "cell_type": "code",
   "execution_count": 41,
   "metadata": {},
   "outputs": [],
   "source": [
    "y_train_ = transfer(y_train)\n",
    "y_test_ = transfer(y_test)"
   ]
  },
  {
   "cell_type": "code",
   "execution_count": 42,
   "metadata": {},
   "outputs": [],
   "source": [
    "from sklearn.utils import resample\n",
    "def digits_recognization(X_train, y_train, X_test, y_test, num_iterations, learning_rate, print_cost=True):\n",
    "    \"\"\"\n",
    "    Params:\n",
    "        X_train, y_train, X_test, y_test: training data and test data\n",
    "        num_iterations: number of iterations\n",
    "        learning_rate: the step of parameters change in every iteration\n",
    "        print_cost: True of False\n",
    "        \n",
    "    Returns:\n",
    "        result: A dict of training result\n",
    "        predict_model: A function that accept a digit graph and return the predict number based on this algorithm\n",
    "    \"\"\"\n",
    "    \n",
    "    def softmax_func(x: np.array):\n",
    "        x -= np.max(x)\n",
    "        return np.exp(x) / np.sum(np.exp(x))\n",
    "    \n",
    "    def propagate_func(X, y, w, b):\n",
    "        # z = wX + b\n",
    "        # a = softmax(z)\n",
    "        assert(X.shape[1] == w.shape[0])\n",
    "        S = softmax_func(np.dot(X, w) + b)\n",
    "        assert(S.shape == y.shape)\n",
    "        m = X.shape[0]\n",
    "        # cost_func: L = -1/m * \\sum (y_i * log(S_i))\n",
    "        cost = -1/m * np.sum(y * np.log(S))\n",
    "        # partial\n",
    "        dw = 1/m * np.dot(X.T, (S - y))\n",
    "        db = 1/m * np.sum(S - y, axis=0).reshape(1, -1)\n",
    "        assert(dw.shape == w.shape)\n",
    "        assert(db.shape == b.shape)\n",
    "        \n",
    "        grads = {\n",
    "            'dw': dw,\n",
    "            'db': db\n",
    "        }\n",
    "        \n",
    "        return grads, cost\n",
    "    \n",
    "    def optimize_func(X_train, y_train, X_test, y_test, num_iterations, learning_rate, print_cost):\n",
    "        # initialize params\n",
    "        w = np.random.rand(X_train.shape[1], 10) * 1e-4\n",
    "        b = np.random.rand(1, 10) * 1e-4\n",
    "        accuracy_and_cost = {\n",
    "            'train_cost': [],\n",
    "            'train_acc': [],\n",
    "            'test_cost': [],\n",
    "            'test_acc': []\n",
    "        }\n",
    "        batch_size = 100\n",
    "        steps_per_iter = X_train.shape[0] // batch_size\n",
    "        for i in range(num_iterations):\n",
    "            cost = 0\n",
    "            for j in range(steps_per_iter):\n",
    "                X_batch, y_batch = resample(X_train, y_train, n_samples=batch_size)\n",
    "                grads, batch_cost = propagate_func(X_batch, y_batch, w, b)\n",
    "            \n",
    "                dw = grads['dw']\n",
    "                db = grads['db']\n",
    "            \n",
    "                w -= learning_rate * dw\n",
    "                b -= learning_rate * db\n",
    "                \n",
    "                cost += batch_cost\n",
    "            if i % 100 == 0:\n",
    "                train_acc, train_cost = accuracy_cost_func(X_train, y_train, w, b)\n",
    "                test_acc, test_cost = accuracy_cost_func(X_test, y_test, w, b)\n",
    "                accuracy_and_cost['train_acc'].append(train_acc)\n",
    "                accuracy_and_cost['train_cost'].append(train_cost)\n",
    "                accuracy_and_cost['test_cost'].append(test_cost)\n",
    "                accuracy_and_cost['test_acc'].append(test_acc)\n",
    "            if print_cost and i % 100 == 0:\n",
    "                print (\"Cost after iteration %i: %f\" %(i, cost / steps_per_iter))\n",
    "        \n",
    "        params = {\n",
    "            'w': w,\n",
    "            'b': b\n",
    "        }\n",
    "        grads = {\n",
    "            'dw': dw,\n",
    "            'db': b\n",
    "        }\n",
    "        return params, grads, accuracy_and_cost\n",
    "    \n",
    "    def accuracy_cost_func(x, y, w, b):\n",
    "        S = softmax_func(np.dot(x, w) + b)\n",
    "        m = x.shape[0]\n",
    "        cost = -1/m * np.sum(y * np.log(S))\n",
    "        y_predict = []\n",
    "        for s in S:\n",
    "            s[s == np.max(s)] = 1\n",
    "            s[s < 1] = 0\n",
    "            y_predict.append(s)\n",
    "        y_predict = np.array(y_predict)\n",
    "        \n",
    "        diff = y - y_predict\n",
    "        \n",
    "        correct = 0\n",
    "        total = 0\n",
    "        for e in diff:\n",
    "            if (e == 0).all():\n",
    "                correct += 1\n",
    "            total += 1\n",
    "        return correct / total, cost\n",
    "    \n",
    "    params, grads, acc_and_cost = optimize_func(X_train, y_train, X_test, y_test, num_iterations, learning_rate, print_cost)\n",
    "    \n",
    "    result = {\n",
    "        'w': params['w'],\n",
    "        'b': params['b'],\n",
    "        'accuracy and cost': acc_and_cost\n",
    "    }\n",
    "    def predict_model(x, y):\n",
    "        plt.imshow(x.reshape([8,8]),cmap=plt.cm.gray_r)\n",
    "        S = softmax_func(np.dot(x, params['w']) + params['b']).tolist()[0]\n",
    "        y_predict = S.index(max(S))\n",
    "        print('The predict value is {}, the real digit is {}'.format(y_predict, y))\n",
    "    \n",
    "    return result, predict_model"
   ]
  },
  {
   "cell_type": "code",
   "execution_count": 43,
   "metadata": {},
   "outputs": [
    {
     "name": "stdout",
     "output_type": "stream",
     "text": [
      "Cost after iteration 0: 6.907452\n",
      "Cost after iteration 100: 6.874733\n",
      "Cost after iteration 200: 6.842119\n",
      "Cost after iteration 300: 6.810265\n",
      "Cost after iteration 400: 6.779594\n",
      "Cost after iteration 500: 6.750905\n",
      "Cost after iteration 600: 6.718911\n",
      "Cost after iteration 700: 6.691453\n",
      "Cost after iteration 800: 6.671803\n",
      "Cost after iteration 900: 6.639084\n",
      "Cost after iteration 1000: 6.618909\n",
      "Cost after iteration 1100: 6.590427\n",
      "Cost after iteration 1200: 6.557365\n",
      "Cost after iteration 1300: 6.538832\n",
      "Cost after iteration 1400: 6.518404\n",
      "Cost after iteration 1500: 6.498054\n",
      "Cost after iteration 1600: 6.472576\n",
      "Cost after iteration 1700: 6.454573\n",
      "Cost after iteration 1800: 6.408922\n",
      "Cost after iteration 1900: 6.408863\n",
      "Cost after iteration 2000: 6.380368\n",
      "Cost after iteration 2100: 6.383865\n",
      "Cost after iteration 2200: 6.355829\n",
      "Cost after iteration 2300: 6.348874\n",
      "Cost after iteration 2400: 6.335594\n",
      "Cost after iteration 2500: 6.318964\n",
      "Cost after iteration 2600: 6.306928\n",
      "Cost after iteration 2700: 6.268193\n",
      "Cost after iteration 2800: 6.270704\n",
      "Cost after iteration 2900: 6.255946\n",
      "Cost after iteration 3000: 6.247138\n",
      "Cost after iteration 3100: 6.257212\n",
      "Cost after iteration 3200: 6.224043\n",
      "Cost after iteration 3300: 6.225300\n",
      "Cost after iteration 3400: 6.213276\n",
      "Cost after iteration 3500: 6.218840\n",
      "Cost after iteration 3600: 6.228189\n",
      "Cost after iteration 3700: 6.195963\n",
      "Cost after iteration 3800: 6.197814\n",
      "Cost after iteration 3900: 6.192108\n",
      "Cost after iteration 4000: 6.203000\n",
      "Cost after iteration 4100: 6.173768\n",
      "Cost after iteration 4200: 6.149793\n",
      "Cost after iteration 4300: 6.172737\n",
      "Cost after iteration 4400: 6.182399\n",
      "Cost after iteration 4500: 6.181246\n",
      "Cost after iteration 4600: 6.218435\n",
      "Cost after iteration 4700: 6.202980\n",
      "Cost after iteration 4800: 6.196690\n",
      "Cost after iteration 4900: 6.207389\n"
     ]
    }
   ],
   "source": [
    "result, predict = digits_recognization(X_train, y_train_, X_test, y_test_, 5000, 1e-6 / 2)"
   ]
  },
  {
   "cell_type": "code",
   "execution_count": 44,
   "metadata": {},
   "outputs": [
    {
     "data": {
      "text/plain": [
       "Text(0, 0.5, 'Accuracy')"
      ]
     },
     "execution_count": 44,
     "metadata": {},
     "output_type": "execute_result"
    },
    {
     "data": {
      "image/png": "[encoded data removed]",
      "text/plain": [
       "<Figure size 432x288 with 2 Axes>"
      ]
     },
     "metadata": {
      "needs_background": "light"
     },
     "output_type": "display_data"
    }
   ],
   "source": [
    "acc_and_cost = result['accuracy and cost']\n",
    "train_cost = acc_and_cost['train_cost']\n",
    "train_acc = acc_and_cost['train_acc']\n",
    "test_cost = acc_and_cost['test_cost']\n",
    "test_acc = acc_and_cost['test_acc']\n",
    "\n",
    "fig = plt.figure()\n",
    " \n",
    "ax1 = fig.add_subplot(111)\n",
    "ax1.plot(range(len(train_cost)), train_cost, color='red')\n",
    "ax1.plot(range(len(test_cost)), test_cost, color='blue')\n",
    "ax1.set_ylabel('Cost')\n",
    "\n",
    "ax2 = ax1.twinx()\n",
    "ax2.plot(range(len(train_acc)), train_acc, color='orange')\n",
    "ax2.plot(range(len(test_acc)), test_acc, color='green')\n",
    "ax2.set_ylabel('Accuracy')"
   ]
  },
  {
   "cell_type": "code",
   "execution_count": 45,
   "metadata": {},
   "outputs": [
    {
     "name": "stdout",
     "output_type": "stream",
     "text": [
      "The predict value is 6, the real digit is 1\n"
     ]
    },
    {
     "data": {
      "image/png": "[encoded data removed]",
      "text/plain": [
       "<Figure size 432x288 with 1 Axes>"
      ]
     },
     "metadata": {
      "needs_background": "light"
     },
     "output_type": "display_data"
    }
   ],
   "source": [
    "predict(X_test[99], y_test[99])"
   ]
  },
  {
   "cell_type": "code",
   "execution_count": 61,
   "metadata": {},
   "outputs": [
    {
     "data": {
      "image/png": "[encoded data removed]",
      "text/plain": [
       "<Figure size 432x288 with 1 Axes>"
      ]
     },
     "metadata": {
      "needs_background": "light"
     },
     "output_type": "display_data"
    }
   ],
   "source": [
    "# learning rate graph1\n",
    "lrs = [1e-5, 1e-5 / 2, 1e-6, 1e-6 / 2, 1e-7]\n",
    "colors = ['red', 'orange', 'blue', 'green', 'black']\n",
    "for lr, c in zip(lrs, colors):\n",
    "    cost = digits_recognization(X_train, y_train_, X_test, y_test_, 1000, lr, False)[0]['accuracy and cost']['test_cost']\n",
    "    plt.plot(range(len(cost)), cost, color=c)"
   ]
  },
  {
   "cell_type": "code",
   "execution_count": 63,
   "metadata": {},
   "outputs": [
    {
     "data": {
      "image/png": "[encoded data removed]",
      "text/plain": [
       "<Figure size 432x288 with 1 Axes>"
      ]
     },
     "metadata": {
      "needs_background": "light"
     },
     "output_type": "display_data"
    }
   ],
   "source": [
    "# increase the iteration times\n",
    "# learning rate graph1\n",
    "lrs = [1e-6, 1e-6 / 2, 1e-6 / 4, 1e-6 / 8, 1e-7]\n",
    "colors = ['red', 'orange', 'blue', 'green', 'black']\n",
    "for lr, c in zip(lrs, colors):\n",
    "    cost = digits_recognization(X_train, y_train_, X_test, y_test_, 5000, lr, False)[0]['accuracy and cost']['test_cost']\n",
    "    plt.plot(range(len(cost)), cost, color=c)"
   ]
  },
  {
   "cell_type": "markdown",
   "metadata": {},
   "source": [
    "# Congratulations ! You have completed assigment 4. "
   ]
  }
 ],
 "metadata": {
  "kernelspec": {
   "display_name": "Python 3",
   "language": "python",
   "name": "python3"
  },
  "language_info": {
   "codemirror_mode": {
    "name": "ipython",
    "version": 3
   },
   "file_extension": ".py",
   "mimetype": "text/x-python",
   "name": "python",
   "nbconvert_exporter": "python",
   "pygments_lexer": "ipython3",
   "version": "3.7.1"
  }
 },
 "nbformat": 4,
 "nbformat_minor": 2
}
