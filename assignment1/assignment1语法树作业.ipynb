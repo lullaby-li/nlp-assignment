{
 "cells": [
  {
   "cell_type": "code",
   "execution_count": 4,
   "metadata": {},
   "outputs": [],
   "source": [
    "human_rules = \"\"\"\n",
    "human = 自己 寻找 活动\n",
    "自己 = 我 | 俺 | 我们 \n",
    "寻找 = 看看 | 找找 | 想找点\n",
    "活动 = 乐子 | 玩的\n",
    "\"\"\""
   ]
  },
  {
   "cell_type": "code",
   "execution_count": 5,
   "metadata": {},
   "outputs": [],
   "source": [
    "import random"
   ]
  },
  {
   "cell_type": "code",
   "execution_count": 6,
   "metadata": {},
   "outputs": [],
   "source": [
    "host_rules = \"\"\"\n",
    "host = 寒暄 报数 询问 业务相关 结尾 \n",
    "报数 = 我是 数字 号 ,\n",
    "数字 = 单个数字 | 数字 单个数字 \n",
    "单个数字 = 1 | 2 | 3 | 4 | 5 | 6 | 7 | 8 | 9 \n",
    "寒暄 = 称谓 打招呼 | 打招呼\n",
    "称谓 = 人称 ,\n",
    "人称 = 先生 | 女士 | 小朋友\n",
    "打招呼 = 你好 | 您好 \n",
    "询问 = 请问你要 | 您需要\n",
    "业务相关 = 玩玩 具体业务\n",
    "玩玩 = 耍一耍 | 玩一玩\n",
    "具体业务 = 喝酒 | 打牌 | 打猎 | 赌博\n",
    "结尾 = 吗？\"\"\""
   ]
  },
  {
   "cell_type": "code",
   "execution_count": 88,
   "metadata": {},
   "outputs": [],
   "source": [
    "def generate(grammar_rule,target):\n",
    "    if target in grammar_rule:\n",
    "        candidates = grammar_rule[target]\n",
    "        #print(candidates)\n",
    "        candidate = random.choice(candidates)\n",
    "        #print(candidate)\n",
    "        return ' '.join(generate(grammar_rule, target=c.strip()) for c in candidate.split())\n",
    "    else:\n",
    "        return target"
   ]
  },
  {
   "cell_type": "code",
   "execution_count": 89,
   "metadata": {},
   "outputs": [],
   "source": [
    "def get_generation_by_gram(grammar_str: str, target, stmt_split='=', or_split='|'):\n",
    "    rules = dict()\n",
    "    for line in grammar_str.split('\\n'):\n",
    "        #print(line)\n",
    "        if not line: continue\n",
    "        stmt, expr = line.split(stmt_split)\n",
    "        rules[stmt.strip()] = expr.split(or_split)\n",
    "        #print(rules)\n",
    "    generated = generate(rules, target=target)\n",
    "    return generated"
   ]
  },
  {
   "cell_type": "code",
   "execution_count": 30,
   "metadata": {},
   "outputs": [
    {
     "data": {
      "text/plain": [
       "'你好 我是 7 号 , 请问你要 耍一耍 赌博 吗？'"
      ]
     },
     "execution_count": 30,
     "metadata": {},
     "output_type": "execute_result"
    }
   ],
   "source": [
    "get_generation_by_gram(host_rules, target='host', stmt_split='=')"
   ]
  },
  {
   "cell_type": "code",
   "execution_count": 22,
   "metadata": {},
   "outputs": [
    {
     "data": {
      "text/plain": [
       "'俺 想找点 乐子'"
      ]
     },
     "execution_count": 22,
     "metadata": {},
     "output_type": "execute_result"
    }
   ],
   "source": [
    "get_generation_by_gram(human_rules, target='human', stmt_split='=')"
   ]
  },
  {
   "cell_type": "code",
   "execution_count": 75,
   "metadata": {},
   "outputs": [],
   "source": [
    "def generate_n(n):\n",
    "    for i in range(n):\n",
    "        print(get_generation_by_gram(host_rules, target='host', stmt_split='='))"
   ]
  },
  {
   "cell_type": "code",
   "execution_count": 29,
   "metadata": {},
   "outputs": [
    {
     "name": "stdout",
     "output_type": "stream",
     "text": [
      "小朋友 , 您好 我是 3 4 号 , 请问你要 耍一耍 打猎 吗？\n",
      "小朋友 , 您好 我是 6 9 号 , 请问你要 玩一玩 喝酒 吗？\n",
      "您好 我是 5 8 号 , 您需要 玩一玩 打牌 吗？\n",
      "你好 我是 4 3 3 9 号 , 请问你要 玩一玩 打猎 吗？\n",
      "你好 我是 9 6 号 , 请问你要 耍一耍 赌博 吗？\n",
      "您好 我是 2 6 号 , 您需要 玩一玩 打牌 吗？\n",
      "你好 我是 1 4 8 3 号 , 您需要 耍一耍 打牌 吗？\n",
      "女士 , 你好 我是 3 4 6 2 4 号 , 请问你要 耍一耍 赌博 吗？\n",
      "你好 我是 6 9 2 号 , 您需要 耍一耍 赌博 吗？\n",
      "你好 我是 5 8 7 号 , 您需要 玩一玩 赌博 吗？\n"
     ]
    }
   ],
   "source": [
    "generate_n(10)"
   ]
  },
  {
   "cell_type": "code",
   "execution_count": 30,
   "metadata": {},
   "outputs": [
    {
     "name": "stdout",
     "output_type": "stream",
     "text": [
      "您好 我是 8 1 号 , 您需要 玩一玩 打牌 吗？\n",
      "你好 我是 5 号 , 请问你要 耍一耍 打猎 吗？\n",
      "你好 我是 7 号 , 您需要 耍一耍 喝酒 吗？\n",
      "你好 我是 3 号 , 您需要 玩一玩 打猎 吗？\n",
      "您好 我是 8 2 7 号 , 请问你要 玩一玩 赌博 吗？\n",
      "小朋友 , 您好 我是 8 号 , 请问你要 耍一耍 喝酒 吗？\n",
      "您好 我是 8 号 , 您需要 耍一耍 打牌 吗？\n",
      "女士 , 你好 我是 6 3 号 , 请问你要 玩一玩 打猎 吗？\n",
      "小朋友 , 您好 我是 3 3 号 , 您需要 玩一玩 打猎 吗？\n",
      "先生 , 您好 我是 7 号 , 您需要 玩一玩 打猎 吗？\n",
      "先生 , 您好 我是 4 号 , 您需要 玩一玩 赌博 吗？\n",
      "女士 , 你好 我是 8 号 , 您需要 耍一耍 打牌 吗？\n",
      "女士 , 您好 我是 4 1 号 , 请问你要 耍一耍 打牌 吗？\n",
      "先生 , 你好 我是 6 5 号 , 请问你要 耍一耍 赌博 吗？\n",
      "女士 , 您好 我是 5 号 , 请问你要 耍一耍 打猎 吗？\n",
      "您好 我是 6 6 号 , 您需要 耍一耍 打猎 吗？\n",
      "女士 , 您好 我是 5 9 6 4 号 , 您需要 玩一玩 喝酒 吗？\n",
      "先生 , 您好 我是 7 号 , 请问你要 耍一耍 打猎 吗？\n",
      "小朋友 , 您好 我是 1 1 号 , 您需要 玩一玩 打猎 吗？\n",
      "小朋友 , 您好 我是 6 6 号 , 您需要 耍一耍 打猎 吗？\n"
     ]
    }
   ],
   "source": [
    "generate_n(20)"
   ]
  },
  {
   "cell_type": "code",
   "execution_count": 85,
   "metadata": {},
   "outputs": [],
   "source": [
    "activity_rules = \"\"\"\n",
    "activity = 时间 主语 地点 活动 感受\n",
    "时间 = 今天 | 昨天 | 现在\n",
    "主语 = 我 | 小仙女 | 女王大人\n",
    "地点 = 在公园 | 在动物园 | 在体育馆\n",
    "活动 = 爬山 | 拍照 |野餐 | 和小动物玩耍 | 喂猴子 | 参观 | 开会 | 打球\n",
    "感受 = ，糟糕的一天！ | ，真是很完美的一天！\n",
    "\"\"\""
   ]
  },
  {
   "cell_type": "code",
   "execution_count": 90,
   "metadata": {},
   "outputs": [
    {
     "data": {
      "text/plain": [
       "'今天 女王大人 在体育馆 拍照 ，糟糕的一天！'"
      ]
     },
     "execution_count": 90,
     "metadata": {},
     "output_type": "execute_result"
    }
   ],
   "source": [
    "get_generation_by_gram(activity_rules, target='activity', stmt_split='=')"
   ]
  },
  {
   "cell_type": "code",
   "execution_count": 93,
   "metadata": {},
   "outputs": [
    {
     "name": "stdout",
     "output_type": "stream",
     "text": [
      "昨天 我 在公园 拍照 ，真是很完美的一天！\n",
      "今天 女王大人 在动物园 开会 ，糟糕的一天！\n",
      "昨天 小仙女 在公园 开会 ，真是很完美的一天！\n",
      "昨天 小仙女 在公园 开会 ，糟糕的一天！\n",
      "昨天 小仙女 在公园 野餐 ，真是很完美的一天！\n",
      "昨天 我 在公园 开会 ，真是很完美的一天！\n",
      "昨天 女王大人 在体育馆 打球 ，真是很完美的一天！\n",
      "现在 女王大人 在动物园 喂猴子 ，真是很完美的一天！\n",
      "昨天 女王大人 在动物园 喂猴子 ，真是很完美的一天！\n",
      "现在 我 在公园 拍照 ，真是很完美的一天！\n"
     ]
    }
   ],
   "source": [
    "generate_n(10,activity_rules)"
   ]
  },
  {
   "cell_type": "code",
   "execution_count": 92,
   "metadata": {},
   "outputs": [],
   "source": [
    "def generate_n(n,activity_rules):\n",
    "    for i in range(n):\n",
    "        print(get_generation_by_gram(activity_rules, target='activity', stmt_split='='))"
   ]
  },
  {
   "cell_type": "code",
   "execution_count": null,
   "metadata": {},
   "outputs": [],
   "source": []
  }
 ],
 "metadata": {
  "kernelspec": {
   "display_name": "Python 3",
   "language": "python",
   "name": "python3"
  },
  "language_info": {
   "codemirror_mode": {
    "name": "ipython",
    "version": 3
   },
   "file_extension": ".py",
   "mimetype": "text/x-python",
   "name": "python",
   "nbconvert_exporter": "python",
   "pygments_lexer": "ipython3",
   "version": "3.7.1"
  }
 },
 "nbformat": 4,
 "nbformat_minor": 2
}
