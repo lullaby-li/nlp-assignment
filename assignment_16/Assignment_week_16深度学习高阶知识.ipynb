{
 "cells": [
  {
   "cell_type": "markdown",
   "metadata": {},
   "source": [
    "### 1.复习上课内容。"
   ]
  },
  {
   "cell_type": "markdown",
   "metadata": {},
   "source": [
    "### 2.理论题"
   ]
  },
  {
   "cell_type": "markdown",
   "metadata": {},
   "source": [
    "1. Why we need $\\gamma$ in reinforcement learning ?"
   ]
  },
  {
   "cell_type": "markdown",
   "metadata": {},
   "source": [
    "A: reward的系数，$\\gamma$为(0,1)之间的数，使得rewards不会趋于无穷大"
   ]
  },
  {
   "cell_type": "markdown",
   "metadata": {},
   "source": [
    "2. Please breifly explain what is value function and what is Q function ?"
   ]
  },
  {
   "cell_type": "markdown",
   "metadata": {},
   "source": [
    "A: value function：因为强化学习基本上可以总结为通过最大化reward来得到一个最优策略。但是如果只是瞬时reward最大会导致每次都只会从动作空间选择reward最大的那个动作，这样就变成了最简单的贪心策略(Greedy policy)，为了很好地刻画是包括未来的当前reward值最大（即使从当前时刻开始一直到状态达到目标的总reward最大）。因此就用value function来描述这一变量。 $V_{\\pi}(S)=E_{\\pi}[R_{t+1}+\\gamma R_{t+2}+\\gamma^2 R_{t+3}+...|S_{t}=s]$\n",
    "\n",
    "   Q function：t时刻状态S下选择特定action后能获得的return的期望，表达式如下: $Q_{\\pi}(s,a)=E_{\\pi}[G_{t}|S_{t}=s,A_{t}=a]$"
   ]
  },
  {
   "cell_type": "markdown",
   "metadata": {},
   "source": [
    "3. How temperal difference related to dynamic programming and monte-carlo methods ?"
   ]
  },
  {
   "cell_type": "markdown",
   "metadata": {},
   "source": [
    "A: 采样一部分，前面用蒙特卡洛方法，后面用bellman equation计算$V(S_{t+1})$"
   ]
  },
  {
   "cell_type": "markdown",
   "metadata": {},
   "source": [
    "4. Please briefly describe what are value iteration and policy iteration ?"
   ]
  },
  {
   "cell_type": "markdown",
   "metadata": {},
   "source": [
    "A: value iteration基于当前的 Policy 计算出每个状态的 Value function.同步更新：每次迭代更新所有的状态的 v\n",
    "   \n",
    "   价值迭代（Value Iteration） 解决的是 Control 问题，它并没有直接计算策略（Policy），而是在得到最优的基于策略的价值函数之后推导出最优的 Policy，使用的是贝尔曼最优化方程（Bellman Optimality Equation）\n",
    "  \n",
    "   策略迭代（Policy Iteration）解决的是 Control 问题，实质是在迭代策略评估（Policy evaluation）之后加一个选择 Policy 的过程（Policy improve），使用的是贝尔曼期望方程和贪心算法"
   ]
  },
  {
   "cell_type": "markdown",
   "metadata": {},
   "source": [
    "5. How can we use deep lerning in reinforcement learning ?"
   ]
  },
  {
   "cell_type": "markdown",
   "metadata": {},
   "source": [
    "A: 把深度学习对应的高维输入与强化学习结合起来"
   ]
  },
  {
   "cell_type": "markdown",
   "metadata": {},
   "source": [
    "### 选做题 （实践）"
   ]
  },
  {
   "cell_type": "code",
   "execution_count": 1,
   "metadata": {},
   "outputs": [],
   "source": [
    "import matplotlib\n",
    "import matplotlib.pyplot as plt\n",
    "import numpy as np\n",
    "from matplotlib.table import Table"
   ]
  },
  {
   "cell_type": "code",
   "execution_count": 2,
   "metadata": {},
   "outputs": [],
   "source": [
    "def draw_image(image):\n",
    "    fig,ax = plt.subplots()\n",
    "    ax.set_axis_off()\n",
    "    tb = Table(ax,bbox=[0,0,1,1])\n",
    "\n",
    "    nrows,ncols = image.shape\n",
    "    width,height = 1.0/ncols,1.0/nrows\n",
    "\n",
    "    for (i,j), val in np.ndenumerate(image):\n",
    "        if (i,j) == (0,1):\n",
    "            val = \"A\"\n",
    "        elif (i,j) == (0,3):\n",
    "            val = \"B\"\n",
    "        elif (i,j) == (4,1):\n",
    "            val = \"A'\"\n",
    "        elif (i,j) == (2,3):\n",
    "            val = \"B'\"\n",
    "        tb.add_cell(i,j,width,height,text=val,\n",
    "                    loc='center',facecolor='white')\n",
    "\n",
    "    for i in range(len(image)):\n",
    "        tb.add_cell(i,-1,width,height,text=i+1,loc='right',\n",
    "                    edgecolor='none',facecolor='none')\n",
    "        tb.add_cell(-1,i,width,height/2,text=i+1,loc='center',\n",
    "                    edgecolor='none',facecolor='none')\n",
    "    ax.add_table(tb)"
   ]
  },
  {
   "cell_type": "code",
   "execution_count": 3,
   "metadata": {},
   "outputs": [
    {
     "data": {
      "image/png": "[encoded data removed]",
      "text/plain": [
       "<Figure size 432x288 with 1 Axes>"
      ]
     },
     "metadata": {
      "needs_background": "light"
     },
     "output_type": "display_data"
    }
   ],
   "source": [
    "WORLD_SIZE=5\n",
    "draw_image(np.zeros((WORLD_SIZE,WORLD_SIZE)))"
   ]
  },
  {
   "cell_type": "markdown",
   "metadata": {},
   "source": [
    "Figure above shows a rectangular gridworld. The cell of the grid correspond to the state of the environment. At each cell, four actions with equal probability are possible: north, south, east and west, which deterministically cause the agent to move one cell in the respective direction on the grid. Actions that would take the agent off the grid leave its unchanged, but also result in a reward -1. Other actions result in a reward of 0, expect those taht move the agent out of the special states A and B. From state A, all four actions yield a reward of +10 and take the agent to A'. From state B, all actions yield a reward of +5 and take the agent to B'. "
   ]
  },
  {
   "cell_type": "markdown",
   "metadata": {},
   "source": [
    "#### Try to compute the value of each state ? You can choose any algorithms we leanred in the class.\n",
    "Good luck and happy new year. !!"
   ]
  },
  {
   "cell_type": "markdown",
   "metadata": {},
   "source": [
    "参考https://nbviewer.jupyter.org/github/kkb-Alex/kaikeba/blob/master/Assignment-16/Assignment_week_16.ipynb"
   ]
  },
  {
   "cell_type": "code",
   "execution_count": 4,
   "metadata": {},
   "outputs": [],
   "source": [
    "table = np.zeros((WORLD_SIZE, WORLD_SIZE))"
   ]
  },
  {
   "cell_type": "code",
   "execution_count": 5,
   "metadata": {},
   "outputs": [
    {
     "data": {
      "text/plain": [
       "array([[0., 0., 0., 0., 0.],\n",
       "       [0., 0., 0., 0., 0.],\n",
       "       [0., 0., 0., 0., 0.],\n",
       "       [0., 0., 0., 0., 0.],\n",
       "       [0., 0., 0., 0., 0.]])"
      ]
     },
     "execution_count": 5,
     "metadata": {},
     "output_type": "execute_result"
    }
   ],
   "source": [
    "table"
   ]
  },
  {
   "cell_type": "markdown",
   "metadata": {},
   "source": [
    "迭代公式：\n",
    "            "
   ]
  },
  {
   "cell_type": "code",
   "execution_count": 6,
   "metadata": {},
   "outputs": [],
   "source": [
    "def calc_v(i, j, v_table, gamma=0.9):\n",
    "    if (i, j) == (0, 1):\n",
    "        up_r = down_r = left_r = right_r = 10\n",
    "        up_v = down_v = left_v = right_v = v_table[4][1]\n",
    "    elif (i, j) == (0, 3):\n",
    "        up_r = down_r = left_r = right_r = 5\n",
    "        up_v = down_v = left_v = right_v = v_table[2][3]\n",
    "    else:\n",
    "        if j - 1 < 0:\n",
    "            up_r, up_v = -1, v_table[i][j]\n",
    "        else:\n",
    "            up_r, up_v = 0, v_table[i][j-1]\n",
    "        if j + 1 > 4:\n",
    "            down_r, down_v = -1, v_table[i][j]\n",
    "        else:\n",
    "            down_r, down_v = 0, v_table[i][j+1]\n",
    "        if i - 1 < 0:\n",
    "            left_r, left_v = -1, v_table[i][j]\n",
    "        else:\n",
    "            left_r, left_v = 0, v_table[i-1][j]\n",
    "        if i + 1 > 4:\n",
    "            right_r, right_v = -1, v_table[i][j]\n",
    "        else:\n",
    "            right_r, right_v = 0, v_table[i+1][j]\n",
    "    return 0.25*((up_r+gamma*up_v)+(down_r+gamma*down_v)+(left_r+gamma*left_v)+(right_r+gamma*right_v))"
   ]
  },
  {
   "cell_type": "code",
   "execution_count": 7,
   "metadata": {},
   "outputs": [],
   "source": [
    "def iter_v(theta=1e-2):\n",
    "    table = np.zeros((WORLD_SIZE, WORLD_SIZE))\n",
    "    while True:\n",
    "        new_table = np.zeros((WORLD_SIZE, WORLD_SIZE))\n",
    "        for (i,j), _ in np.ndenumerate(table):\n",
    "            v = calc_v(i, j, table)\n",
    "            new_table[i][j] = v\n",
    "        if np.average(np.abs(table-new_table)) < theta:\n",
    "            return new_table\n",
    "        table = new_table"
   ]
  },
  {
   "cell_type": "code",
   "execution_count": 8,
   "metadata": {},
   "outputs": [],
   "source": [
    "def draw_table(table):\n",
    "    fig,ax = plt.subplots()\n",
    "    ax.set_axis_off()\n",
    "    tb = Table(ax,bbox=[0,0,1,1])\n",
    "\n",
    "    nrows,ncols = table.shape\n",
    "    width,height = 1.0/ncols,1.0/nrows\n",
    "\n",
    "    for (i,j), val in np.ndenumerate(table):\n",
    "        tb.add_cell(i,j,width,height,text=val,\n",
    "                    loc='center',facecolor='white')\n",
    "\n",
    "    for i in range(len(table)):\n",
    "        tb.add_cell(i,-1,width,height,text=i+1,loc='right',\n",
    "                    edgecolor='none',facecolor='none')\n",
    "        tb.add_cell(-1,i,width,height/2,text=i+1,loc='center',\n",
    "                    edgecolor='none',facecolor='none')\n",
    "    ax.add_table(tb)"
   ]
  },
  {
   "cell_type": "code",
   "execution_count": 9,
   "metadata": {},
   "outputs": [
    {
     "data": {
      "image/png": "[encoded data removed]",
      "text/plain": [
       "<Figure size 432x288 with 1 Axes>"
      ]
     },
     "metadata": {
      "needs_background": "light"
     },
     "output_type": "display_data"
    }
   ],
   "source": [
    "draw_table(np.around(iter_v(), decimals=1))"
   ]
  }
 ],
 "metadata": {
  "kernelspec": {
   "display_name": "Python 3",
   "language": "python",
   "name": "python3"
  },
  "language_info": {
   "codemirror_mode": {
    "name": "ipython",
    "version": 3
   },
   "file_extension": ".py",
   "mimetype": "text/x-python",
   "name": "python",
   "nbconvert_exporter": "python",
   "pygments_lexer": "ipython3",
   "version": "3.7.1"
  }
 },
 "nbformat": 4,
 "nbformat_minor": 2
}
